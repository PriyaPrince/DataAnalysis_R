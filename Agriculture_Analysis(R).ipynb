{
 "cells": [
  {
   "cell_type": "markdown",
   "id": "ea376815",
   "metadata": {},
   "source": [
    "## Data Analysis on Agricultural Dataset in R"
   ]
  },
  {
   "cell_type": "code",
   "execution_count": 5,
   "id": "f621bcaa",
   "metadata": {},
   "outputs": [],
   "source": [
    "### Overview"
   ]
  },
  {
   "cell_type": "code",
   "execution_count": 3,
   "id": "16253261",
   "metadata": {},
   "outputs": [],
   "source": [
    "# This dataset provides information about crop production in India for a period of 15 years.\n",
    "#EDA of this dataset would give insights into Indian agriculture status: state-wise,district-wise, crop-wise, area-wise levels of production"
   ]
  },
  {
   "cell_type": "markdown",
   "id": "4448c91d",
   "metadata": {},
   "source": [
    "### Features in this dataset\n",
    "state: Name of Indian State (eg, Andhra Pradesh, Punjab e.t.c)\n",
    "\n",
    "district: Name of district (eg, Godavari , Srikakulam)\n",
    "\n",
    "crop: Crop produced (e.g. Rice)\n",
    "\n",
    "year: Year of production 1998-99\n",
    "\n",
    "season: Season of production (e.g. Rabi, Kharif, All seasons)\n",
    "\n",
    "area: Area of production in Hectare\n",
    "\n",
    "production: Crop produced in Tonnes\n",
    "\n",
    "yield: In Tonnes/Hectare(Returns per Hectare)"
   ]
  },
  {
   "cell_type": "code",
   "execution_count": 1,
   "id": "7f5e3587",
   "metadata": {},
   "outputs": [
    {
     "name": "stderr",
     "output_type": "stream",
     "text": [
      "Warning message:\n",
      "\"package 'ggplot2' was built under R version 3.6.3\""
     ]
    }
   ],
   "source": [
    "library(ggplot2)"
   ]
  },
  {
   "cell_type": "code",
   "execution_count": 2,
   "id": "08274063",
   "metadata": {},
   "outputs": [
    {
     "name": "stderr",
     "output_type": "stream",
     "text": [
      "Warning message:\n",
      "\"package 'scales' was built under R version 3.6.3\""
     ]
    }
   ],
   "source": [
    "library(scales)"
   ]
  },
  {
   "cell_type": "code",
   "execution_count": 3,
   "id": "2f56b018",
   "metadata": {},
   "outputs": [],
   "source": [
    "df = read.csv(\"Agri.csv\") "
   ]
  },
  {
   "cell_type": "code",
   "execution_count": 4,
   "id": "716d5b49",
   "metadata": {},
   "outputs": [
    {
     "data": {
      "text/html": [
       "<table>\n",
       "<thead><tr><th scope=col>state</th><th scope=col>district</th><th scope=col>crop</th><th scope=col>year</th><th scope=col>season</th><th scope=col>area</th><th scope=col>production</th><th scope=col>yield</th></tr></thead>\n",
       "<tbody>\n",
       "\t<tr><td>ANDHRA PRADESH</td><td>ADILABAD      </td><td>Rice          </td><td>1998-99       </td><td>Kharif        </td><td>66400         </td><td>152300        </td><td>2.293675      </td></tr>\n",
       "\t<tr><td>ANDHRA PRADESH</td><td>ADILABAD      </td><td>Rice          </td><td>1998-99       </td><td>Rabi          </td><td>12200         </td><td> 33500        </td><td>2.745902      </td></tr>\n",
       "\t<tr><td>ANDHRA PRADESH</td><td>ADILABAD      </td><td>Rice          </td><td>1999-00       </td><td>Kharif        </td><td>66388         </td><td>162451        </td><td>2.446993      </td></tr>\n",
       "\t<tr><td>ANDHRA PRADESH</td><td>ADILABAD      </td><td>Rice          </td><td>1999-00       </td><td>Rabi          </td><td>10980         </td><td> 26616        </td><td>2.424044      </td></tr>\n",
       "\t<tr><td>ANDHRA PRADESH</td><td>ADILABAD      </td><td>Rice          </td><td>2000-01       </td><td>Kharif        </td><td>70645         </td><td>146235        </td><td>2.069998      </td></tr>\n",
       "</tbody>\n",
       "</table>\n"
      ],
      "text/latex": [
       "\\begin{tabular}{r|llllllll}\n",
       " state & district & crop & year & season & area & production & yield\\\\\n",
       "\\hline\n",
       "\t ANDHRA PRADESH & ADILABAD       & Rice           & 1998-99        & Kharif         & 66400          & 152300         & 2.293675      \\\\\n",
       "\t ANDHRA PRADESH & ADILABAD       & Rice           & 1998-99        & Rabi           & 12200          &  33500         & 2.745902      \\\\\n",
       "\t ANDHRA PRADESH & ADILABAD       & Rice           & 1999-00        & Kharif         & 66388          & 162451         & 2.446993      \\\\\n",
       "\t ANDHRA PRADESH & ADILABAD       & Rice           & 1999-00        & Rabi           & 10980          &  26616         & 2.424044      \\\\\n",
       "\t ANDHRA PRADESH & ADILABAD       & Rice           & 2000-01        & Kharif         & 70645          & 146235         & 2.069998      \\\\\n",
       "\\end{tabular}\n"
      ],
      "text/markdown": [
       "\n",
       "| state | district | crop | year | season | area | production | yield |\n",
       "|---|---|---|---|---|---|---|---|\n",
       "| ANDHRA PRADESH | ADILABAD       | Rice           | 1998-99        | Kharif         | 66400          | 152300         | 2.293675       |\n",
       "| ANDHRA PRADESH | ADILABAD       | Rice           | 1998-99        | Rabi           | 12200          |  33500         | 2.745902       |\n",
       "| ANDHRA PRADESH | ADILABAD       | Rice           | 1999-00        | Kharif         | 66388          | 162451         | 2.446993       |\n",
       "| ANDHRA PRADESH | ADILABAD       | Rice           | 1999-00        | Rabi           | 10980          |  26616         | 2.424044       |\n",
       "| ANDHRA PRADESH | ADILABAD       | Rice           | 2000-01        | Kharif         | 70645          | 146235         | 2.069998       |\n",
       "\n"
      ],
      "text/plain": [
       "  state          district crop year    season area  production yield   \n",
       "1 ANDHRA PRADESH ADILABAD Rice 1998-99 Kharif 66400 152300     2.293675\n",
       "2 ANDHRA PRADESH ADILABAD Rice 1998-99 Rabi   12200  33500     2.745902\n",
       "3 ANDHRA PRADESH ADILABAD Rice 1999-00 Kharif 66388 162451     2.446993\n",
       "4 ANDHRA PRADESH ADILABAD Rice 1999-00 Rabi   10980  26616     2.424044\n",
       "5 ANDHRA PRADESH ADILABAD Rice 2000-01 Kharif 70645 146235     2.069998"
      ]
     },
     "metadata": {},
     "output_type": "display_data"
    }
   ],
   "source": [
    "head(df,5)"
   ]
  },
  {
   "cell_type": "code",
   "execution_count": 5,
   "id": "df0fea41",
   "metadata": {},
   "outputs": [
    {
     "data": {
      "text/html": [
       "<ol class=list-inline>\n",
       "\t<li>175628</li>\n",
       "\t<li>8</li>\n",
       "</ol>\n"
      ],
      "text/latex": [
       "\\begin{enumerate*}\n",
       "\\item 175628\n",
       "\\item 8\n",
       "\\end{enumerate*}\n"
      ],
      "text/markdown": [
       "1. 175628\n",
       "2. 8\n",
       "\n",
       "\n"
      ],
      "text/plain": [
       "[1] 175628      8"
      ]
     },
     "metadata": {},
     "output_type": "display_data"
    }
   ],
   "source": [
    "dim(df)"
   ]
  },
  {
   "cell_type": "code",
   "execution_count": 6,
   "id": "6f4aba93",
   "metadata": {},
   "outputs": [],
   "source": [
    "# Column wise Missing values"
   ]
  },
  {
   "cell_type": "code",
   "execution_count": 7,
   "id": "5adf5120",
   "metadata": {},
   "outputs": [
    {
     "data": {
      "text/html": [
       "<dl class=dl-horizontal>\n",
       "\t<dt>state</dt>\n",
       "\t\t<dd>0</dd>\n",
       "\t<dt>district</dt>\n",
       "\t\t<dd>0</dd>\n",
       "\t<dt>crop</dt>\n",
       "\t\t<dd>0</dd>\n",
       "\t<dt>year</dt>\n",
       "\t\t<dd>0</dd>\n",
       "\t<dt>season</dt>\n",
       "\t\t<dd>0</dd>\n",
       "\t<dt>area</dt>\n",
       "\t\t<dd>4</dd>\n",
       "\t<dt>production</dt>\n",
       "\t\t<dd>2559</dd>\n",
       "\t<dt>yield</dt>\n",
       "\t\t<dd>2559</dd>\n",
       "</dl>\n"
      ],
      "text/latex": [
       "\\begin{description*}\n",
       "\\item[state] 0\n",
       "\\item[district] 0\n",
       "\\item[crop] 0\n",
       "\\item[year] 0\n",
       "\\item[season] 0\n",
       "\\item[area] 4\n",
       "\\item[production] 2559\n",
       "\\item[yield] 2559\n",
       "\\end{description*}\n"
      ],
      "text/markdown": [
       "state\n",
       ":   0district\n",
       ":   0crop\n",
       ":   0year\n",
       ":   0season\n",
       ":   0area\n",
       ":   4production\n",
       ":   2559yield\n",
       ":   2559\n",
       "\n"
      ],
      "text/plain": [
       "     state   district       crop       year     season       area production \n",
       "         0          0          0          0          0          4       2559 \n",
       "     yield \n",
       "      2559 "
      ]
     },
     "metadata": {},
     "output_type": "display_data"
    }
   ],
   "source": [
    "sapply(df,function(X) {length(which(is.na(X)))})"
   ]
  },
  {
   "cell_type": "code",
   "execution_count": 8,
   "id": "a1b4a0e6",
   "metadata": {},
   "outputs": [],
   "source": [
    "#Droping the raws with NaN values , as it contains only 1.4% of the total data"
   ]
  },
  {
   "cell_type": "code",
   "execution_count": 9,
   "id": "5b801615",
   "metadata": {},
   "outputs": [],
   "source": [
    "df<-na.omit(df)"
   ]
  },
  {
   "cell_type": "code",
   "execution_count": 10,
   "id": "5f3f8e3b",
   "metadata": {},
   "outputs": [
    {
     "data": {
      "text/html": [
       "<dl class=dl-horizontal>\n",
       "\t<dt>state</dt>\n",
       "\t\t<dd>0</dd>\n",
       "\t<dt>district</dt>\n",
       "\t\t<dd>0</dd>\n",
       "\t<dt>crop</dt>\n",
       "\t\t<dd>0</dd>\n",
       "\t<dt>year</dt>\n",
       "\t\t<dd>0</dd>\n",
       "\t<dt>season</dt>\n",
       "\t\t<dd>0</dd>\n",
       "\t<dt>area</dt>\n",
       "\t\t<dd>0</dd>\n",
       "\t<dt>production</dt>\n",
       "\t\t<dd>0</dd>\n",
       "\t<dt>yield</dt>\n",
       "\t\t<dd>0</dd>\n",
       "</dl>\n"
      ],
      "text/latex": [
       "\\begin{description*}\n",
       "\\item[state] 0\n",
       "\\item[district] 0\n",
       "\\item[crop] 0\n",
       "\\item[year] 0\n",
       "\\item[season] 0\n",
       "\\item[area] 0\n",
       "\\item[production] 0\n",
       "\\item[yield] 0\n",
       "\\end{description*}\n"
      ],
      "text/markdown": [
       "state\n",
       ":   0district\n",
       ":   0crop\n",
       ":   0year\n",
       ":   0season\n",
       ":   0area\n",
       ":   0production\n",
       ":   0yield\n",
       ":   0\n",
       "\n"
      ],
      "text/plain": [
       "     state   district       crop       year     season       area production \n",
       "         0          0          0          0          0          0          0 \n",
       "     yield \n",
       "         0 "
      ]
     },
     "metadata": {},
     "output_type": "display_data"
    }
   ],
   "source": [
    "sapply(df,function(X) {length(which(is.na(X)))})"
   ]
  },
  {
   "cell_type": "code",
   "execution_count": 11,
   "id": "484d26e7",
   "metadata": {},
   "outputs": [],
   "source": [
    "#Droping two rows which showed the value 'Year' under year column"
   ]
  },
  {
   "cell_type": "code",
   "execution_count": 12,
   "id": "6b8f4cac",
   "metadata": {},
   "outputs": [],
   "source": [
    "df <- subset(df,year != 'Year')"
   ]
  },
  {
   "cell_type": "code",
   "execution_count": 13,
   "id": "21e9d0f9",
   "metadata": {},
   "outputs": [
    {
     "data": {
      "text/html": [
       "<table>\n",
       "<thead><tr><th scope=col>state</th><th scope=col>district</th><th scope=col>crop</th><th scope=col>year</th><th scope=col>season</th><th scope=col>area</th><th scope=col>production</th><th scope=col>yield</th></tr></thead>\n",
       "<tbody>\n",
       "</tbody>\n",
       "</table>\n"
      ],
      "text/latex": [
       "\\begin{tabular}{r|llllllll}\n",
       " state & district & crop & year & season & area & production & yield\\\\\n",
       "\\hline\n",
       "\\end{tabular}\n"
      ],
      "text/markdown": [
       "\n",
       "| state | district | crop | year | season | area | production | yield |\n",
       "|---|---|---|---|---|---|---|---|\n",
       "\n"
      ],
      "text/plain": [
       "     state district crop year season area production yield"
      ]
     },
     "metadata": {},
     "output_type": "display_data"
    }
   ],
   "source": [
    "subset(df,year == 'Year')"
   ]
  },
  {
   "cell_type": "code",
   "execution_count": 14,
   "id": "67ccb274",
   "metadata": {},
   "outputs": [
    {
     "data": {
      "text/html": [
       "<ol class=list-inline>\n",
       "\t<li>173067</li>\n",
       "\t<li>8</li>\n",
       "</ol>\n"
      ],
      "text/latex": [
       "\\begin{enumerate*}\n",
       "\\item 173067\n",
       "\\item 8\n",
       "\\end{enumerate*}\n"
      ],
      "text/markdown": [
       "1. 173067\n",
       "2. 8\n",
       "\n",
       "\n"
      ],
      "text/plain": [
       "[1] 173067      8"
      ]
     },
     "metadata": {},
     "output_type": "display_data"
    }
   ],
   "source": [
    "dim(df)"
   ]
  },
  {
   "cell_type": "code",
   "execution_count": 15,
   "id": "09d51a7f",
   "metadata": {},
   "outputs": [],
   "source": [
    "# Datatypes of all columns"
   ]
  },
  {
   "cell_type": "code",
   "execution_count": 16,
   "id": "b563b146",
   "metadata": {},
   "outputs": [
    {
     "name": "stdout",
     "output_type": "stream",
     "text": [
      "'data.frame':\t173067 obs. of  8 variables:\n",
      " $ state     : Factor w/ 33 levels \"A & N ISLANDS\",..: 2 2 2 2 2 2 2 2 2 2 ...\n",
      " $ district  : Factor w/ 646 levels \"24 PARGANAS (NORTH)\",..: 4 4 4 4 4 4 4 4 4 4 ...\n",
      " $ crop      : Factor w/ 50 levels \"Arecanut\",\"Arhar (Tur)\",..: 37 37 37 37 37 37 37 37 37 37 ...\n",
      " $ year      : Factor w/ 17 levels \"\",\"1998-99\",\"1999-00\",..: 2 2 3 3 4 4 5 5 6 6 ...\n",
      " $ season    : Factor w/ 6 levels \"Autumn\",\"Kharif\",..: 2 3 2 3 2 3 2 3 2 3 ...\n",
      " $ area      : num  66400 12200 66388 10980 70645 ...\n",
      " $ production: num  152300 33500 162451 26616 146235 ...\n",
      " $ yield     : num  2.29 2.75 2.45 2.42 2.07 ...\n"
     ]
    }
   ],
   "source": [
    "str(df)"
   ]
  },
  {
   "cell_type": "code",
   "execution_count": 17,
   "id": "c9d48cda",
   "metadata": {},
   "outputs": [],
   "source": [
    "# Bsic Summary of dataset"
   ]
  },
  {
   "cell_type": "code",
   "execution_count": 18,
   "id": "3098f544",
   "metadata": {},
   "outputs": [
    {
     "data": {
      "text/plain": [
       "            state             district             crop             year      \n",
       " UTTAR PRADESH :23303   BILASPUR  :   701   Rice     : 11018   2003-04:14385  \n",
       " MADHYA PRADESH:16523   AURANGABAD:   627   Maize    :  9851   2002-03:13979  \n",
       " KARNATAKA     :13015   TUMKUR    :   583   Moong    :  7154   2007-08:13740  \n",
       " BIHAR         :12982   DAVANGERE :   571   Urad     :  6683   2006-07:13444  \n",
       " ANDHRA PRADESH:10955   KURNOOL   :   567   Sesamum  :  6641   2008-09:13408  \n",
       " ORISSA        :10842   BELLARY   :   566   Groundnut:  6535   2000-01:13325  \n",
       " (Other)       :85447   (Other)   :169452   (Other)  :125185   (Other):90786  \n",
       "        season           area            production            yield          \n",
       " Autumn    : 2847   Min.   :2.00e-01   Min.   :0.000e+00   Min.   :    0.000  \n",
       " Kharif    :70030   1st Qu.:9.70e+01   1st Qu.:9.900e+01   1st Qu.:    0.501  \n",
       " Rabi      :47821   Median :6.78e+02   Median :7.800e+02   Median :    1.000  \n",
       " Summer    : 9050   Mean   :1.24e+04   Mean   :2.230e+05   Mean   :   18.507  \n",
       " Whole year:39649   3rd Qu.:4.99e+03   3rd Qu.:7.256e+03   3rd Qu.:    2.208  \n",
       " Winter    : 3670   Max.   :1.02e+06   Max.   :1.251e+09   Max.   :24414.676  \n",
       "                                                                              "
      ]
     },
     "metadata": {},
     "output_type": "display_data"
    }
   ],
   "source": [
    "summary(df)"
   ]
  },
  {
   "cell_type": "code",
   "execution_count": 19,
   "id": "db29c05b",
   "metadata": {},
   "outputs": [],
   "source": [
    "# NUmber of unique values"
   ]
  },
  {
   "cell_type": "code",
   "execution_count": 20,
   "id": "ab8615e8",
   "metadata": {},
   "outputs": [
    {
     "data": {
      "text/html": [
       "<dl class=dl-horizontal>\n",
       "\t<dt>state</dt>\n",
       "\t\t<dd>33</dd>\n",
       "\t<dt>district</dt>\n",
       "\t\t<dd>646</dd>\n",
       "\t<dt>crop</dt>\n",
       "\t\t<dd>50</dd>\n",
       "\t<dt>year</dt>\n",
       "\t\t<dd>16</dd>\n",
       "\t<dt>season</dt>\n",
       "\t\t<dd>6</dd>\n",
       "</dl>\n"
      ],
      "text/latex": [
       "\\begin{description*}\n",
       "\\item[state] 33\n",
       "\\item[district] 646\n",
       "\\item[crop] 50\n",
       "\\item[year] 16\n",
       "\\item[season] 6\n",
       "\\end{description*}\n"
      ],
      "text/markdown": [
       "state\n",
       ":   33district\n",
       ":   646crop\n",
       ":   50year\n",
       ":   16season\n",
       ":   6\n",
       "\n"
      ],
      "text/plain": [
       "   state district     crop     year   season \n",
       "      33      646       50       16        6 "
      ]
     },
     "metadata": {},
     "output_type": "display_data"
    }
   ],
   "source": [
    "sapply(subset(df,select = c(1:5)),function(X) {length(unique(X))})"
   ]
  },
  {
   "cell_type": "markdown",
   "id": "80681554",
   "metadata": {},
   "source": [
    "### This dataset contains information about 50 different agriculture crops cultivated in 6 major cropping seasons.\n",
    "###Data has the agriculture production details of 646 districts from 33 states."
   ]
  },
  {
   "cell_type": "code",
   "execution_count": null,
   "id": "b3aef911",
   "metadata": {},
   "outputs": [],
   "source": []
  },
  {
   "cell_type": "markdown",
   "id": "afc1154a",
   "metadata": {},
   "source": [
    "### 1. Top 5 states in rice production"
   ]
  },
  {
   "cell_type": "code",
   "execution_count": 21,
   "id": "57ca9532",
   "metadata": {},
   "outputs": [
    {
     "name": "stderr",
     "output_type": "stream",
     "text": [
      "Warning message:\n",
      "\"package 'dplyr' was built under R version 3.6.3\"\n",
      "Attaching package: 'dplyr'\n",
      "\n",
      "The following objects are masked from 'package:stats':\n",
      "\n",
      "    filter, lag\n",
      "\n",
      "The following objects are masked from 'package:base':\n",
      "\n",
      "    intersect, setdiff, setequal, union\n",
      "\n"
     ]
    }
   ],
   "source": [
    "library(dplyr)"
   ]
  },
  {
   "cell_type": "code",
   "execution_count": 22,
   "id": "1394d317",
   "metadata": {},
   "outputs": [],
   "source": [
    "RiceProd = subset(df,crop == 'Rice') %>% group_by(state) %>% summarise(production = sum(production)) %>% arrange(desc(production,.by_group = TRUE))"
   ]
  },
  {
   "cell_type": "code",
   "execution_count": 23,
   "id": "25c6c50f",
   "metadata": {},
   "outputs": [
    {
     "data": {
      "text/html": [
       "<table>\n",
       "<thead><tr><th scope=col>state</th><th scope=col>production</th></tr></thead>\n",
       "<tbody>\n",
       "\t<tr><td>WEST BENGAL   </td><td>169958186     </td></tr>\n",
       "\t<tr><td>ANDHRA PRADESH</td><td>161534612     </td></tr>\n",
       "\t<tr><td>UTTAR PRADESH </td><td>151898372     </td></tr>\n",
       "\t<tr><td>PUNJAB        </td><td>132646000     </td></tr>\n",
       "\t<tr><td>ORISSA        </td><td>106254062     </td></tr>\n",
       "</tbody>\n",
       "</table>\n"
      ],
      "text/latex": [
       "\\begin{tabular}{r|ll}\n",
       " state & production\\\\\n",
       "\\hline\n",
       "\t WEST BENGAL    & 169958186     \\\\\n",
       "\t ANDHRA PRADESH & 161534612     \\\\\n",
       "\t UTTAR PRADESH  & 151898372     \\\\\n",
       "\t PUNJAB         & 132646000     \\\\\n",
       "\t ORISSA         & 106254062     \\\\\n",
       "\\end{tabular}\n"
      ],
      "text/markdown": [
       "\n",
       "| state | production |\n",
       "|---|---|\n",
       "| WEST BENGAL    | 169958186      |\n",
       "| ANDHRA PRADESH | 161534612      |\n",
       "| UTTAR PRADESH  | 151898372      |\n",
       "| PUNJAB         | 132646000      |\n",
       "| ORISSA         | 106254062      |\n",
       "\n"
      ],
      "text/plain": [
       "  state          production\n",
       "1 WEST BENGAL    169958186 \n",
       "2 ANDHRA PRADESH 161534612 \n",
       "3 UTTAR PRADESH  151898372 \n",
       "4 PUNJAB         132646000 \n",
       "5 ORISSA         106254062 "
      ]
     },
     "metadata": {},
     "output_type": "display_data"
    }
   ],
   "source": [
    "head(RiceProd,5)"
   ]
  },
  {
   "cell_type": "code",
   "execution_count": 24,
   "id": "99c4c7e8",
   "metadata": {},
   "outputs": [],
   "source": [
    "Rplot = head(RiceProd,5)"
   ]
  },
  {
   "cell_type": "code",
   "execution_count": 25,
   "id": "f2a12057",
   "metadata": {},
   "outputs": [
    {
     "data": {
      "image/png": "[encoded data removed]",
      "text/plain": [
       "plot without title"
      ]
     },
     "metadata": {},
     "output_type": "display_data"
    }
   ],
   "source": [
    "options(repr.plot.width = 6, repr.plot.height = 4)\n",
    "ggplot(Rplot, aes(x=state, y=production)) + geom_bar(stat = \"identity\",fill = \"deepskyblue\",width = 0.3) + labs(title = \"    Top 5 rice producing states\")"
   ]
  },
  {
   "cell_type": "markdown",
   "id": "10e81f9a",
   "metadata": {},
   "source": [
    "### 2. Rice production trend of Punjab over 15 years"
   ]
  },
  {
   "cell_type": "code",
   "execution_count": 26,
   "id": "68e5dda9",
   "metadata": {},
   "outputs": [
    {
     "data": {
      "text/html": [
       "<table>\n",
       "<thead><tr><th scope=col>year</th><th scope=col>production</th></tr></thead>\n",
       "<tbody>\n",
       "\t<tr><td>1998-99 </td><td> 7940000</td></tr>\n",
       "\t<tr><td>1999-00 </td><td> 8716000</td></tr>\n",
       "\t<tr><td>2000-01 </td><td> 9154000</td></tr>\n",
       "\t<tr><td>2001-02 </td><td> 8816000</td></tr>\n",
       "\t<tr><td>2002-03 </td><td> 8880000</td></tr>\n",
       "\t<tr><td>2003-04 </td><td> 9656000</td></tr>\n",
       "\t<tr><td>2004-05 </td><td>10437000</td></tr>\n",
       "\t<tr><td>2005-06 </td><td>10193000</td></tr>\n",
       "\t<tr><td>2006-07 </td><td> 9542000</td></tr>\n",
       "\t<tr><td>2007-08 </td><td> 9381000</td></tr>\n",
       "\t<tr><td>2008-09 </td><td> 9902000</td></tr>\n",
       "\t<tr><td>2009-10 </td><td>10112000</td></tr>\n",
       "\t<tr><td>2010-11 </td><td> 9745000</td></tr>\n",
       "\t<tr><td>2012-13 </td><td>10172000</td></tr>\n",
       "</tbody>\n",
       "</table>\n"
      ],
      "text/latex": [
       "\\begin{tabular}{r|ll}\n",
       " year & production\\\\\n",
       "\\hline\n",
       "\t 1998-99  &  7940000\\\\\n",
       "\t 1999-00  &  8716000\\\\\n",
       "\t 2000-01  &  9154000\\\\\n",
       "\t 2001-02  &  8816000\\\\\n",
       "\t 2002-03  &  8880000\\\\\n",
       "\t 2003-04  &  9656000\\\\\n",
       "\t 2004-05  & 10437000\\\\\n",
       "\t 2005-06  & 10193000\\\\\n",
       "\t 2006-07  &  9542000\\\\\n",
       "\t 2007-08  &  9381000\\\\\n",
       "\t 2008-09  &  9902000\\\\\n",
       "\t 2009-10  & 10112000\\\\\n",
       "\t 2010-11  &  9745000\\\\\n",
       "\t 2012-13  & 10172000\\\\\n",
       "\\end{tabular}\n"
      ],
      "text/markdown": [
       "\n",
       "| year | production |\n",
       "|---|---|\n",
       "| 1998-99  |  7940000 |\n",
       "| 1999-00  |  8716000 |\n",
       "| 2000-01  |  9154000 |\n",
       "| 2001-02  |  8816000 |\n",
       "| 2002-03  |  8880000 |\n",
       "| 2003-04  |  9656000 |\n",
       "| 2004-05  | 10437000 |\n",
       "| 2005-06  | 10193000 |\n",
       "| 2006-07  |  9542000 |\n",
       "| 2007-08  |  9381000 |\n",
       "| 2008-09  |  9902000 |\n",
       "| 2009-10  | 10112000 |\n",
       "| 2010-11  |  9745000 |\n",
       "| 2012-13  | 10172000 |\n",
       "\n"
      ],
      "text/plain": [
       "   year    production\n",
       "1  1998-99  7940000  \n",
       "2  1999-00  8716000  \n",
       "3  2000-01  9154000  \n",
       "4  2001-02  8816000  \n",
       "5  2002-03  8880000  \n",
       "6  2003-04  9656000  \n",
       "7  2004-05 10437000  \n",
       "8  2005-06 10193000  \n",
       "9  2006-07  9542000  \n",
       "10 2007-08  9381000  \n",
       "11 2008-09  9902000  \n",
       "12 2009-10 10112000  \n",
       "13 2010-11  9745000  \n",
       "14 2012-13 10172000  "
      ]
     },
     "metadata": {},
     "output_type": "display_data"
    }
   ],
   "source": [
    "subset(df,crop == 'Rice' & state == 'PUNJAB') %>% group_by(year) %>% summarise(production = sum(production))"
   ]
  },
  {
   "cell_type": "code",
   "execution_count": 27,
   "id": "377593c3",
   "metadata": {},
   "outputs": [
    {
     "data": {
      "image/png": "[encoded data removed]",
      "text/plain": [
       "plot without title"
      ]
     },
     "metadata": {},
     "output_type": "display_data"
    }
   ],
   "source": [
    "options(repr.plot.width = 10, repr.plot.height = 4)\n",
    "ggplot(subset(df,crop == 'Rice' & state == 'PUNJAB') %>% group_by(year) %>% summarise(production = sum(production)),aes(x = year,y = production,group = 1)) + geom_line(color=\"red\")+ geom_point()"
   ]
  },
  {
   "cell_type": "markdown",
   "id": "c4b69e6e",
   "metadata": {},
   "source": [
    "### 3. Identify the most produced Rabi crop"
   ]
  },
  {
   "cell_type": "code",
   "execution_count": 28,
   "id": "172ab476",
   "metadata": {},
   "outputs": [],
   "source": [
    "Rabi = subset(df,season == 'Rabi')"
   ]
  },
  {
   "cell_type": "code",
   "execution_count": 29,
   "id": "fd3bf6c5",
   "metadata": {},
   "outputs": [
    {
     "data": {
      "text/plain": [
       "\n",
       "            Wheat Rapeseed &Mustard              Gram           Linseed \n",
       "             5797              5404              5373              3285 \n",
       "           Barley            Masoor \n",
       "             3072              2851 "
      ]
     },
     "metadata": {},
     "output_type": "display_data"
    }
   ],
   "source": [
    "head(sort(table(Rabi$crop),decreasing = TRUE))"
   ]
  },
  {
   "cell_type": "code",
   "execution_count": 30,
   "id": "2d042984",
   "metadata": {},
   "outputs": [],
   "source": [
    "# Most produced Rabi crop is wheat"
   ]
  },
  {
   "cell_type": "markdown",
   "id": "acc69349",
   "metadata": {},
   "source": [
    "### 4. Five states having maximum agriculture land(area)"
   ]
  },
  {
   "cell_type": "code",
   "execution_count": 31,
   "id": "76772163",
   "metadata": {},
   "outputs": [
    {
     "ename": "ERROR",
     "evalue": "Error in parse(text = x, srcfile = src): <text>:1:19: unexpected '['\n1: area = df.groupby([\n                      ^\n",
     "output_type": "error",
     "traceback": [
      "Error in parse(text = x, srcfile = src): <text>:1:19: unexpected '['\n1: area = df.groupby([\n                      ^\nTraceback:\n"
     ]
    }
   ],
   "source": [
    "area = df.groupby(['state','year']).area.sum()"
   ]
  },
  {
   "cell_type": "code",
   "execution_count": null,
   "id": "aa762711",
   "metadata": {},
   "outputs": [],
   "source": [
    "areadf = df %>% group_by(state,year) %>% summarise(area_sum = sum(area))"
   ]
  },
  {
   "cell_type": "code",
   "execution_count": null,
   "id": "7cd788be",
   "metadata": {},
   "outputs": [],
   "source": [
    "df %>% group_by(state,year) %>% summarise(area_sum = sum(area))"
   ]
  },
  {
   "cell_type": "code",
   "execution_count": null,
   "id": "79ab48c1",
   "metadata": {},
   "outputs": [],
   "source": [
    "head(areadf %>% group_by(state) %>% summarise(mean_area = mean(area_sum)) %>% arrange(desc(mean_area,.by_group = TRUE)),5)"
   ]
  },
  {
   "cell_type": "code",
   "execution_count": null,
   "id": "b240a56e",
   "metadata": {},
   "outputs": [],
   "source": [
    "area_plot = head(areadf %>% group_by(state) %>% summarise(mean_area = mean(area_sum)) %>% arrange(desc(mean_area,.by_group = TRUE)),5)"
   ]
  },
  {
   "cell_type": "code",
   "execution_count": null,
   "id": "e1952bfa",
   "metadata": {},
   "outputs": [],
   "source": [
    "options(repr.plot.width = 8, repr.plot.height = 4)\n",
    "ggplot(area_plot, aes(x=state, y=mean_area)) + geom_bar(stat = \"identity\",fill = \"darkviolet\",width = 0.7) + labs(title = \"    Top 5 states in Area\")"
   ]
  },
  {
   "cell_type": "markdown",
   "id": "8c9716c8",
   "metadata": {},
   "source": [
    "### 5.Most produced crop in Kerala"
   ]
  },
  {
   "cell_type": "code",
   "execution_count": null,
   "id": "1f964d09",
   "metadata": {},
   "outputs": [],
   "source": [
    "kerala = subset(df,state == 'KERALA')\n"
   ]
  },
  {
   "cell_type": "code",
   "execution_count": null,
   "id": "b9527bf7",
   "metadata": {},
   "outputs": [],
   "source": [
    "head(sort(table(kerala$crop),decreasing = TRUE))"
   ]
  },
  {
   "cell_type": "code",
   "execution_count": null,
   "id": "9f8dcd9e",
   "metadata": {},
   "outputs": [],
   "source": [
    "# Rice is the most produced crop in Kerala"
   ]
  },
  {
   "cell_type": "markdown",
   "id": "47ab40cc",
   "metadata": {},
   "source": [
    "### 6.Most produced crop in Maharashtra"
   ]
  },
  {
   "cell_type": "code",
   "execution_count": null,
   "id": "bfb5a4b3",
   "metadata": {},
   "outputs": [],
   "source": [
    "mh = subset(df,state == 'MAHARASHTRA')\n",
    "head(sort(table(mh$crop),decreasing = TRUE))"
   ]
  },
  {
   "cell_type": "code",
   "execution_count": null,
   "id": "d8f0e9b5",
   "metadata": {},
   "outputs": [],
   "source": [
    "# Sunflower is the most produced crop in Maharashtra"
   ]
  },
  {
   "cell_type": "markdown",
   "id": "8dea53ce",
   "metadata": {},
   "source": [
    "### 7.Most produced crop in Punjab"
   ]
  },
  {
   "cell_type": "code",
   "execution_count": null,
   "id": "3645483a",
   "metadata": {},
   "outputs": [],
   "source": [
    "punjab = subset(df,state == 'PUNJAB')\n",
    "head(sort(table(punjab$crop),decreasing = TRUE))"
   ]
  },
  {
   "cell_type": "code",
   "execution_count": null,
   "id": "1373e9b6",
   "metadata": {},
   "outputs": [],
   "source": [
    "# Rice is the most produced crop of Punjab"
   ]
  },
  {
   "cell_type": "markdown",
   "id": "66251bab",
   "metadata": {},
   "source": [
    "### 8. In which year does the production went to minimum"
   ]
  },
  {
   "cell_type": "code",
   "execution_count": null,
   "id": "9aea5c50",
   "metadata": {},
   "outputs": [],
   "source": [
    "yearplot = df %>% group_by(year) %>% summarise(production = sum(production))"
   ]
  },
  {
   "cell_type": "code",
   "execution_count": null,
   "id": "2dea3032",
   "metadata": {},
   "outputs": [],
   "source": [
    "options(repr.plot.width = 10, repr.plot.height = 5)\n",
    "ggplot(yearplot,aes(x = year,y = production,group = 1)) + geom_line(linetype = \"dashed\",color=\"blue\")+ geom_point(color=\"red\", size=3)"
   ]
  },
  {
   "cell_type": "code",
   "execution_count": null,
   "id": "db2f1722",
   "metadata": {},
   "outputs": [],
   "source": [
    "# 2013-2014 has low production"
   ]
  },
  {
   "cell_type": "markdown",
   "id": "5ed84b22",
   "metadata": {},
   "source": [
    "### 9. Top 5 Rabi crops(In terms of production)"
   ]
  },
  {
   "cell_type": "code",
   "execution_count": null,
   "id": "b835f982",
   "metadata": {},
   "outputs": [],
   "source": [
    "rabi = subset(df,season == 'Rabi')"
   ]
  },
  {
   "cell_type": "code",
   "execution_count": null,
   "id": "640c97e4",
   "metadata": {},
   "outputs": [],
   "source": [
    "head(rabi %>% group_by(crop) %>% summarise(production = sum(production)) %>% arrange(desc(production,.by_group = TRUE)),5)"
   ]
  },
  {
   "cell_type": "code",
   "execution_count": null,
   "id": "26940523",
   "metadata": {},
   "outputs": [],
   "source": [
    "rabiplot = head(rabi %>% group_by(crop) %>% summarise(production = sum(production)) %>% arrange(desc(production,.by_group = TRUE)),5)"
   ]
  },
  {
   "cell_type": "code",
   "execution_count": null,
   "id": "4869b9ca",
   "metadata": {},
   "outputs": [],
   "source": [
    "ggplot(rabiplot, aes(x=production, y=crop)) + geom_bar(stat = \"identity\",fill = \"tan1\",width = 0.7) + labs(title = \"    Top 5 Rabi crops\")"
   ]
  },
  {
   "cell_type": "markdown",
   "id": "c60f6687",
   "metadata": {},
   "source": [
    "### 10.Top 5 Kharif producing states"
   ]
  },
  {
   "cell_type": "code",
   "execution_count": null,
   "id": "8d80df26",
   "metadata": {},
   "outputs": [],
   "source": [
    "kharif = subset(df,season == 'Kharif')"
   ]
  },
  {
   "cell_type": "code",
   "execution_count": null,
   "id": "744c5608",
   "metadata": {},
   "outputs": [],
   "source": [
    "head(kharif %>% group_by(state) %>% summarise(production = sum(production)) %>% arrange(desc(production,.by_group = TRUE)),5)"
   ]
  },
  {
   "cell_type": "code",
   "execution_count": null,
   "id": "52c59725",
   "metadata": {},
   "outputs": [],
   "source": [
    "kplot = head(kharif %>% group_by(state) %>% summarise(production = sum(production)) %>% arrange(desc(production,.by_group = TRUE)),5)"
   ]
  },
  {
   "cell_type": "code",
   "execution_count": null,
   "id": "8b68ac39",
   "metadata": {},
   "outputs": [],
   "source": [
    "ggplot(kplot, aes(x=state, y=production)) + geom_bar(stat = \"identity\",fill = \"yellow4\",width = 0.5) + labs(title = \"    Top 5 states in Kharif production\")"
   ]
  },
  {
   "cell_type": "markdown",
   "id": "7d872ce1",
   "metadata": {},
   "source": [
    "### 12. In Kerala which district is best for rice production"
   ]
  },
  {
   "cell_type": "code",
   "execution_count": null,
   "id": "4d920516",
   "metadata": {},
   "outputs": [],
   "source": [
    "subset(df,state == 'KERALA' & crop == 'Rice') %>% group_by(district) %>% summarise(production = sum(production)) %>% arrange(desc(production,.by_group = TRUE))"
   ]
  },
  {
   "cell_type": "code",
   "execution_count": null,
   "id": "5ec9a487",
   "metadata": {},
   "outputs": [],
   "source": [
    "dplot = subset(df,state == 'KERALA' & crop == 'Rice') %>% group_by(district) %>% summarise(production = sum(production)) %>% arrange(desc(production,.by_group = TRUE))"
   ]
  },
  {
   "cell_type": "code",
   "execution_count": null,
   "id": "71a29ee0",
   "metadata": {},
   "outputs": [],
   "source": [
    "options(repr.plot.width = 15, repr.plot.height = 5)\n",
    "ggplot(dplot, aes(x=district, y=production)) + geom_bar(stat = \"identity\",fill = \"slateblue1\",width = 0.2) + labs(title = \"    District wise rice production of Kerala\")"
   ]
  },
  {
   "cell_type": "markdown",
   "id": "cf3b6f48",
   "metadata": {},
   "source": [
    "### Maximum rice production in Kerala is in Palakkad District ."
   ]
  },
  {
   "cell_type": "markdown",
   "id": "272b0d2a",
   "metadata": {},
   "source": [
    "### 13.  Identify the crop that gives maximum yield"
   ]
  },
  {
   "cell_type": "code",
   "execution_count": null,
   "id": "2e2d0963",
   "metadata": {},
   "outputs": [],
   "source": [
    "head(df %>% group_by(crop) %>%  summarise(yield = sum(yield))  %>%  arrange(desc(yield,.by_group = TRUE)),10)"
   ]
  },
  {
   "cell_type": "code",
   "execution_count": null,
   "id": "fc615cee",
   "metadata": {},
   "outputs": [],
   "source": [
    "# Coconut is the crop that gives maximum yield"
   ]
  },
  {
   "cell_type": "markdown",
   "id": "c9bd3dbb",
   "metadata": {},
   "source": [
    "### 14. Five least produced crop in India"
   ]
  },
  {
   "cell_type": "code",
   "execution_count": null,
   "id": "9fc009b2",
   "metadata": {},
   "outputs": [],
   "source": [
    "head(df %>% group_by(crop) %>%  summarise(production = sum(production))  %>%  arrange(production,.by_group = TRUE),10)\n",
    "# sorting in default order ie. ascending"
   ]
  },
  {
   "cell_type": "markdown",
   "id": "d5cacf6e",
   "metadata": {},
   "source": [
    "### 15. Cardomom production in different states"
   ]
  },
  {
   "cell_type": "code",
   "execution_count": 32,
   "id": "3a98a31e",
   "metadata": {},
   "outputs": [
    {
     "data": {
      "text/html": [
       "<table>\n",
       "<thead><tr><th scope=col>state</th><th scope=col>production</th></tr></thead>\n",
       "<tbody>\n",
       "\t<tr><td>KERALA     </td><td>87341.400  </td></tr>\n",
       "\t<tr><td>KARNATAKA  </td><td>13214.000  </td></tr>\n",
       "\t<tr><td>WEST BENGAL</td><td> 5604.704  </td></tr>\n",
       "\t<tr><td>TAMIL NADU </td><td> 3903.000  </td></tr>\n",
       "\t<tr><td>NAGALAND   </td><td> 1680.000  </td></tr>\n",
       "</tbody>\n",
       "</table>\n"
      ],
      "text/latex": [
       "\\begin{tabular}{r|ll}\n",
       " state & production\\\\\n",
       "\\hline\n",
       "\t KERALA      & 87341.400  \\\\\n",
       "\t KARNATAKA   & 13214.000  \\\\\n",
       "\t WEST BENGAL &  5604.704  \\\\\n",
       "\t TAMIL NADU  &  3903.000  \\\\\n",
       "\t NAGALAND    &  1680.000  \\\\\n",
       "\\end{tabular}\n"
      ],
      "text/markdown": [
       "\n",
       "| state | production |\n",
       "|---|---|\n",
       "| KERALA      | 87341.400   |\n",
       "| KARNATAKA   | 13214.000   |\n",
       "| WEST BENGAL |  5604.704   |\n",
       "| TAMIL NADU  |  3903.000   |\n",
       "| NAGALAND    |  1680.000   |\n",
       "\n"
      ],
      "text/plain": [
       "  state       production\n",
       "1 KERALA      87341.400 \n",
       "2 KARNATAKA   13214.000 \n",
       "3 WEST BENGAL  5604.704 \n",
       "4 TAMIL NADU   3903.000 \n",
       "5 NAGALAND     1680.000 "
      ]
     },
     "metadata": {},
     "output_type": "display_data"
    }
   ],
   "source": [
    "subset(df,crop == 'Cardamom') %>% group_by(state)  %>%  summarise(production = sum(production))  %>% arrange(desc(production,.by_group = TRUE))"
   ]
  },
  {
   "cell_type": "code",
   "execution_count": null,
   "id": "a5903305",
   "metadata": {},
   "outputs": [],
   "source": [
    "cplot = subset(df,crop == 'Cardamom') %>% group_by(state)  %>%  summarise(production = sum(production))  %>% arrange(desc(production,.by_group = TRUE))"
   ]
  },
  {
   "cell_type": "code",
   "execution_count": null,
   "id": "26374410",
   "metadata": {},
   "outputs": [],
   "source": [
    "cl = length(cplot$production)"
   ]
  },
  {
   "cell_type": "code",
   "execution_count": 43,
   "id": "39677b15",
   "metadata": {},
   "outputs": [
    {
     "data": {
      "image/png": "[encoded data removed]",
      "text/plain": [
       "plot without title"
      ]
     },
     "metadata": {},
     "output_type": "display_data"
    }
   ],
   "source": [
    "ggplot(cplot, aes(x=2, y=production, fill=state))+geom_bar(stat = \"identity\",color = \"white\") + coord_polar(\"y\", start=0) + geom_text(aes(label = production), color = \"white\") + theme_void() + xlim(0.001, 2.5)"
   ]
  },
  {
   "cell_type": "markdown",
   "id": "64f19ef9",
   "metadata": {},
   "source": [
    "### l6. Five most produced crops in India"
   ]
  },
  {
   "cell_type": "code",
   "execution_count": 129,
   "id": "91206f1f",
   "metadata": {},
   "outputs": [
    {
     "data": {
      "text/html": [
       "<table>\n",
       "<thead><tr><th scope=col>crop</th><th scope=col>production</th></tr></thead>\n",
       "<tbody>\n",
       "\t<tr><td>Coconut    </td><td>31002905518</td></tr>\n",
       "\t<tr><td>Sugarcane  </td><td> 3584729394</td></tr>\n",
       "\t<tr><td>Rice       </td><td> 1161929085</td></tr>\n",
       "\t<tr><td>Wheat      </td><td>  992622513</td></tr>\n",
       "\t<tr><td>Potato     </td><td>  294748002</td></tr>\n",
       "</tbody>\n",
       "</table>\n"
      ],
      "text/latex": [
       "\\begin{tabular}{r|ll}\n",
       " crop & production\\\\\n",
       "\\hline\n",
       "\t Coconut     & 31002905518\\\\\n",
       "\t Sugarcane   &  3584729394\\\\\n",
       "\t Rice        &  1161929085\\\\\n",
       "\t Wheat       &   992622513\\\\\n",
       "\t Potato      &   294748002\\\\\n",
       "\\end{tabular}\n"
      ],
      "text/markdown": [
       "\n",
       "| crop | production |\n",
       "|---|---|\n",
       "| Coconut     | 31002905518 |\n",
       "| Sugarcane   |  3584729394 |\n",
       "| Rice        |  1161929085 |\n",
       "| Wheat       |   992622513 |\n",
       "| Potato      |   294748002 |\n",
       "\n"
      ],
      "text/plain": [
       "  crop      production \n",
       "1 Coconut   31002905518\n",
       "2 Sugarcane  3584729394\n",
       "3 Rice       1161929085\n",
       "4 Wheat       992622513\n",
       "5 Potato      294748002"
      ]
     },
     "metadata": {},
     "output_type": "display_data"
    }
   ],
   "source": [
    "head(df %>% group_by(crop) %>% summarise(production = sum(production)) %>% arrange(desc(production,.by_group = TRUE)),5)"
   ]
  },
  {
   "cell_type": "code",
   "execution_count": 132,
   "id": "046244e6",
   "metadata": {},
   "outputs": [],
   "source": [
    "prod = head(df %>% group_by(crop) %>% summarise(production = sum(production)) %>% arrange(desc(production,.by_group = TRUE)),5)"
   ]
  },
  {
   "cell_type": "code",
   "execution_count": 135,
   "id": "ba012b95",
   "metadata": {},
   "outputs": [
    {
     "data": {
      "image/png": "[encoded data removed]",
      "text/plain": [
       "plot without title"
      ]
     },
     "metadata": {},
     "output_type": "display_data"
    }
   ],
   "source": [
    "options(repr.plot.width = 6, repr.plot.height = 4)\n",
    "ggplot(prod, aes(x=crop, y=production)) + geom_bar(stat = \"identity\",fill = \"cyan4\",width = 0.3) + labs(title = \"    Most Produced crops in India\")"
   ]
  },
  {
   "cell_type": "code",
   "execution_count": null,
   "id": "378de18b",
   "metadata": {},
   "outputs": [],
   "source": []
  },
  {
   "cell_type": "markdown",
   "id": "15078c96",
   "metadata": {},
   "source": [
    "### 17. Production of Top 4 Crops over the years"
   ]
  },
  {
   "cell_type": "code",
   "execution_count": 136,
   "id": "d878bffc",
   "metadata": {},
   "outputs": [
    {
     "data": {
      "text/html": [
       "<table>\n",
       "<thead><tr><th scope=col>year</th><th scope=col>production</th></tr></thead>\n",
       "<tbody>\n",
       "\t<tr><td>1998-99    </td><td>  128276320</td></tr>\n",
       "\t<tr><td>1999-00    </td><td>  129443746</td></tr>\n",
       "\t<tr><td>2000-01    </td><td> 1225779815</td></tr>\n",
       "\t<tr><td>2001-02    </td><td> 1257743713</td></tr>\n",
       "\t<tr><td>2002-03    </td><td> 1291404306</td></tr>\n",
       "\t<tr><td>2003-04    </td><td> 1327926197</td></tr>\n",
       "\t<tr><td>2004-05    </td><td> 1334953354</td></tr>\n",
       "\t<tr><td>2005-06    </td><td> 1019671342</td></tr>\n",
       "\t<tr><td>2006-07    </td><td> 1461354699</td></tr>\n",
       "\t<tr><td>2007-08    </td><td>  135912487</td></tr>\n",
       "\t<tr><td>2008-09    </td><td> 1160965410</td></tr>\n",
       "\t<tr><td>2009-10    </td><td> 1289529457</td></tr>\n",
       "\t<tr><td>2010-11    </td><td> 5415626962</td></tr>\n",
       "\t<tr><td>2011-12    </td><td>13701597709</td></tr>\n",
       "\t<tr><td>2012-13    </td><td>  122720000</td></tr>\n",
       "</tbody>\n",
       "</table>\n"
      ],
      "text/latex": [
       "\\begin{tabular}{r|ll}\n",
       " year & production\\\\\n",
       "\\hline\n",
       "\t 1998-99     &   128276320\\\\\n",
       "\t 1999-00     &   129443746\\\\\n",
       "\t 2000-01     &  1225779815\\\\\n",
       "\t 2001-02     &  1257743713\\\\\n",
       "\t 2002-03     &  1291404306\\\\\n",
       "\t 2003-04     &  1327926197\\\\\n",
       "\t 2004-05     &  1334953354\\\\\n",
       "\t 2005-06     &  1019671342\\\\\n",
       "\t 2006-07     &  1461354699\\\\\n",
       "\t 2007-08     &   135912487\\\\\n",
       "\t 2008-09     &  1160965410\\\\\n",
       "\t 2009-10     &  1289529457\\\\\n",
       "\t 2010-11     &  5415626962\\\\\n",
       "\t 2011-12     & 13701597709\\\\\n",
       "\t 2012-13     &   122720000\\\\\n",
       "\\end{tabular}\n"
      ],
      "text/markdown": [
       "\n",
       "| year | production |\n",
       "|---|---|\n",
       "| 1998-99     |   128276320 |\n",
       "| 1999-00     |   129443746 |\n",
       "| 2000-01     |  1225779815 |\n",
       "| 2001-02     |  1257743713 |\n",
       "| 2002-03     |  1291404306 |\n",
       "| 2003-04     |  1327926197 |\n",
       "| 2004-05     |  1334953354 |\n",
       "| 2005-06     |  1019671342 |\n",
       "| 2006-07     |  1461354699 |\n",
       "| 2007-08     |   135912487 |\n",
       "| 2008-09     |  1160965410 |\n",
       "| 2009-10     |  1289529457 |\n",
       "| 2010-11     |  5415626962 |\n",
       "| 2011-12     | 13701597709 |\n",
       "| 2012-13     |   122720000 |\n",
       "\n"
      ],
      "text/plain": [
       "   year    production \n",
       "1  1998-99   128276320\n",
       "2  1999-00   129443746\n",
       "3  2000-01  1225779815\n",
       "4  2001-02  1257743713\n",
       "5  2002-03  1291404306\n",
       "6  2003-04  1327926197\n",
       "7  2004-05  1334953354\n",
       "8  2005-06  1019671342\n",
       "9  2006-07  1461354699\n",
       "10 2007-08   135912487\n",
       "11 2008-09  1160965410\n",
       "12 2009-10  1289529457\n",
       "13 2010-11  5415626962\n",
       "14 2011-12 13701597709\n",
       "15 2012-13   122720000"
      ]
     },
     "metadata": {},
     "output_type": "display_data"
    }
   ],
   "source": [
    "subset(df,crop == 'Coconut') %>%  group_by(year) %>%  summarise(production = sum(production))"
   ]
  },
  {
   "cell_type": "code",
   "execution_count": null,
   "id": "1057d35d",
   "metadata": {},
   "outputs": [],
   "source": []
  },
  {
   "cell_type": "markdown",
   "id": "4c956418",
   "metadata": {},
   "source": [
    "### 18. 17. As the year 2012- 13 witnessed a low productivity compared to previous years, identity the top 10 better performed crops in that year"
   ]
  },
  {
   "cell_type": "code",
   "execution_count": 35,
   "id": "c9131172",
   "metadata": {},
   "outputs": [
    {
     "data": {
      "text/html": [
       "<table>\n",
       "<thead><tr><th scope=col>crop</th><th scope=col>yield</th></tr></thead>\n",
       "<tbody>\n",
       "\t<tr><td>Coconut     </td><td>4772.86870  </td></tr>\n",
       "\t<tr><td>Sugarcane   </td><td>3451.86437  </td></tr>\n",
       "\t<tr><td>Potato      </td><td> 522.74697  </td></tr>\n",
       "\t<tr><td>Rice        </td><td> 243.79503  </td></tr>\n",
       "\t<tr><td>Maize       </td><td> 193.57454  </td></tr>\n",
       "\t<tr><td>Tapioca     </td><td> 161.75592  </td></tr>\n",
       "\t<tr><td>Wheat       </td><td> 150.69738  </td></tr>\n",
       "\t<tr><td>Dry ginger  </td><td> 110.90701  </td></tr>\n",
       "\t<tr><td>Groundnut   </td><td>  97.39521  </td></tr>\n",
       "\t<tr><td>Sweet potato</td><td>  68.19091  </td></tr>\n",
       "</tbody>\n",
       "</table>\n"
      ],
      "text/latex": [
       "\\begin{tabular}{r|ll}\n",
       " crop & yield\\\\\n",
       "\\hline\n",
       "\t Coconut      & 4772.86870  \\\\\n",
       "\t Sugarcane    & 3451.86437  \\\\\n",
       "\t Potato       &  522.74697  \\\\\n",
       "\t Rice         &  243.79503  \\\\\n",
       "\t Maize        &  193.57454  \\\\\n",
       "\t Tapioca      &  161.75592  \\\\\n",
       "\t Wheat        &  150.69738  \\\\\n",
       "\t Dry ginger   &  110.90701  \\\\\n",
       "\t Groundnut    &   97.39521  \\\\\n",
       "\t Sweet potato &   68.19091  \\\\\n",
       "\\end{tabular}\n"
      ],
      "text/markdown": [
       "\n",
       "| crop | yield |\n",
       "|---|---|\n",
       "| Coconut      | 4772.86870   |\n",
       "| Sugarcane    | 3451.86437   |\n",
       "| Potato       |  522.74697   |\n",
       "| Rice         |  243.79503   |\n",
       "| Maize        |  193.57454   |\n",
       "| Tapioca      |  161.75592   |\n",
       "| Wheat        |  150.69738   |\n",
       "| Dry ginger   |  110.90701   |\n",
       "| Groundnut    |   97.39521   |\n",
       "| Sweet potato |   68.19091   |\n",
       "\n"
      ],
      "text/plain": [
       "   crop         yield     \n",
       "1  Coconut      4772.86870\n",
       "2  Sugarcane    3451.86437\n",
       "3  Potato        522.74697\n",
       "4  Rice          243.79503\n",
       "5  Maize         193.57454\n",
       "6  Tapioca       161.75592\n",
       "7  Wheat         150.69738\n",
       "8  Dry ginger    110.90701\n",
       "9  Groundnut      97.39521\n",
       "10 Sweet potato   68.19091"
      ]
     },
     "metadata": {},
     "output_type": "display_data"
    }
   ],
   "source": [
    "head(subset(df,year == '2012-13') %>% group_by(crop) %>%  summarise(yield = sum(yield)) %>%  arrange(desc(yield,.by_group = TRUE)),10)"
   ]
  },
  {
   "cell_type": "markdown",
   "id": "17d4fe9d",
   "metadata": {},
   "source": [
    "### 19. Per Hector production Graph of various Indian states"
   ]
  },
  {
   "cell_type": "code",
   "execution_count": 51,
   "id": "1d6af99e",
   "metadata": {},
   "outputs": [
    {
     "data": {
      "image/png": "[encoded data removed]",
      "text/plain": [
       "plot without title"
      ]
     },
     "metadata": {},
     "output_type": "display_data"
    }
   ],
   "source": [
    "options(repr.plot.width = 15, repr.plot.height = 10)\n",
    "ggplot(df, aes(x=production, y=state,fill = state)) + geom_bar(stat = \"identity\",width = 0.8) + labs(title = \"    Production graph of various states\")"
   ]
  },
  {
   "cell_type": "markdown",
   "id": "491647a9",
   "metadata": {},
   "source": [
    "### Goa tops the list as it has maximum per hector production(As the state is small per hector production will be more)¶"
   ]
  },
  {
   "cell_type": "markdown",
   "id": "17f7564d",
   "metadata": {},
   "source": [
    "### 20.Percentage production of top 10 districts"
   ]
  },
  {
   "cell_type": "code",
   "execution_count": 61,
   "id": "02892da9",
   "metadata": {},
   "outputs": [],
   "source": [
    "per = head(df %>% group_by(district) %>%  summarise(production = sum(production)) %>%  arrange(desc(production,.by_group = TRUE)),10)"
   ]
  },
  {
   "cell_type": "code",
   "execution_count": 62,
   "id": "fb22bfd4",
   "metadata": {},
   "outputs": [],
   "source": [
    "S = sum(per$production)"
   ]
  },
  {
   "cell_type": "code",
   "execution_count": 63,
   "id": "0928916f",
   "metadata": {},
   "outputs": [],
   "source": [
    "per$percentage_production  =  lapply(per$production,function(X) {(X/S)*100})"
   ]
  },
  {
   "cell_type": "code",
   "execution_count": 64,
   "id": "4143cd6a",
   "metadata": {},
   "outputs": [
    {
     "data": {
      "text/html": [
       "<table>\n",
       "<thead><tr><th scope=col>district</th><th scope=col>production</th><th scope=col>percentage_production</th></tr></thead>\n",
       "<tbody>\n",
       "\t<tr><td>EAST GODAVARI</td><td>6026257557   </td><td>30.87258     </td></tr>\n",
       "\t<tr><td>WEST GODAVARI</td><td>2694426698   </td><td>13.80357     </td></tr>\n",
       "\t<tr><td>MALAPPURAM   </td><td>1875909405   </td><td>9.610302     </td></tr>\n",
       "\t<tr><td>KOZHIKODE    </td><td>1633130971   </td><td>8.366546     </td></tr>\n",
       "\t<tr><td>Goa          </td><td>1377570619   </td><td>7.057308     </td></tr>\n",
       "\t<tr><td>COIMBATORE   </td><td>1285224541   </td><td>6.584218     </td></tr>\n",
       "\t<tr><td>SRIKAKULAM   </td><td>1251505130   </td><td>6.411473     </td></tr>\n",
       "\t<tr><td>KANNUR       </td><td>1181464643   </td><td>6.052655     </td></tr>\n",
       "\t<tr><td>THRISSUR     </td><td>1109858015   </td><td>5.685813     </td></tr>\n",
       "\t<tr><td>TRIVANDRUM   </td><td>1084428156   </td><td>5.555536     </td></tr>\n",
       "</tbody>\n",
       "</table>\n"
      ],
      "text/latex": [
       "\\begin{tabular}{r|lll}\n",
       " district & production & percentage\\_production\\\\\n",
       "\\hline\n",
       "\t EAST GODAVARI & 6026257557    & 30.87258     \\\\\n",
       "\t WEST GODAVARI & 2694426698    & 13.80357     \\\\\n",
       "\t MALAPPURAM    & 1875909405    & 9.610302     \\\\\n",
       "\t KOZHIKODE     & 1633130971    & 8.366546     \\\\\n",
       "\t Goa           & 1377570619    & 7.057308     \\\\\n",
       "\t COIMBATORE    & 1285224541    & 6.584218     \\\\\n",
       "\t SRIKAKULAM    & 1251505130    & 6.411473     \\\\\n",
       "\t KANNUR        & 1181464643    & 6.052655     \\\\\n",
       "\t THRISSUR      & 1109858015    & 5.685813     \\\\\n",
       "\t TRIVANDRUM    & 1084428156    & 5.555536     \\\\\n",
       "\\end{tabular}\n"
      ],
      "text/markdown": [
       "\n",
       "| district | production | percentage_production |\n",
       "|---|---|---|\n",
       "| EAST GODAVARI | 6026257557    | 30.87258      |\n",
       "| WEST GODAVARI | 2694426698    | 13.80357      |\n",
       "| MALAPPURAM    | 1875909405    | 9.610302      |\n",
       "| KOZHIKODE     | 1633130971    | 8.366546      |\n",
       "| Goa           | 1377570619    | 7.057308      |\n",
       "| COIMBATORE    | 1285224541    | 6.584218      |\n",
       "| SRIKAKULAM    | 1251505130    | 6.411473      |\n",
       "| KANNUR        | 1181464643    | 6.052655      |\n",
       "| THRISSUR      | 1109858015    | 5.685813      |\n",
       "| TRIVANDRUM    | 1084428156    | 5.555536      |\n",
       "\n"
      ],
      "text/plain": [
       "   district      production percentage_production\n",
       "1  EAST GODAVARI 6026257557 30.87258             \n",
       "2  WEST GODAVARI 2694426698 13.80357             \n",
       "3  MALAPPURAM    1875909405 9.610302             \n",
       "4  KOZHIKODE     1633130971 8.366546             \n",
       "5  Goa           1377570619 7.057308             \n",
       "6  COIMBATORE    1285224541 6.584218             \n",
       "7  SRIKAKULAM    1251505130 6.411473             \n",
       "8  KANNUR        1181464643 6.052655             \n",
       "9  THRISSUR      1109858015 5.685813             \n",
       "10 TRIVANDRUM    1084428156 5.555536             "
      ]
     },
     "metadata": {},
     "output_type": "display_data"
    }
   ],
   "source": [
    "per"
   ]
  },
  {
   "cell_type": "code",
   "execution_count": 66,
   "id": "ce38b4b2",
   "metadata": {},
   "outputs": [
    {
     "data": {
      "image/png": "[encoded data removed]",
      "text/plain": [
       "plot without title"
      ]
     },
     "metadata": {},
     "output_type": "display_data"
    }
   ],
   "source": [
    "ggplot(per, aes(x=district, y=percentage_production,fill = district)) + geom_bar(stat = \"identity\",width = 0.8) + labs(title = \"    Percentage production of top states\")"
   ]
  },
  {
   "cell_type": "markdown",
   "id": "9f3adcec",
   "metadata": {},
   "source": [
    "### 21.  Top 3 crops in overall production"
   ]
  },
  {
   "cell_type": "code",
   "execution_count": 68,
   "id": "b298767d",
   "metadata": {},
   "outputs": [
    {
     "data": {
      "text/html": [
       "<table>\n",
       "<thead><tr><th scope=col>crop</th><th scope=col>production</th></tr></thead>\n",
       "<tbody>\n",
       "\t<tr><td>Coconut    </td><td>31002905518</td></tr>\n",
       "\t<tr><td>Sugarcane  </td><td> 3584729394</td></tr>\n",
       "\t<tr><td>Rice       </td><td> 1161929085</td></tr>\n",
       "</tbody>\n",
       "</table>\n"
      ],
      "text/latex": [
       "\\begin{tabular}{r|ll}\n",
       " crop & production\\\\\n",
       "\\hline\n",
       "\t Coconut     & 31002905518\\\\\n",
       "\t Sugarcane   &  3584729394\\\\\n",
       "\t Rice        &  1161929085\\\\\n",
       "\\end{tabular}\n"
      ],
      "text/markdown": [
       "\n",
       "| crop | production |\n",
       "|---|---|\n",
       "| Coconut     | 31002905518 |\n",
       "| Sugarcane   |  3584729394 |\n",
       "| Rice        |  1161929085 |\n",
       "\n"
      ],
      "text/plain": [
       "  crop      production \n",
       "1 Coconut   31002905518\n",
       "2 Sugarcane  3584729394\n",
       "3 Rice       1161929085"
      ]
     },
     "metadata": {},
     "output_type": "display_data"
    }
   ],
   "source": [
    "head(df %>% group_by(crop) %>% summarise(production = sum(production)) %>% arrange(desc(production,.by_group = TRUE)),3)"
   ]
  },
  {
   "cell_type": "markdown",
   "id": "aa33f809",
   "metadata": {},
   "source": [
    "### 22.  Season wise production of Uttar Pradesh"
   ]
  },
  {
   "cell_type": "code",
   "execution_count": 69,
   "id": "5cff780c",
   "metadata": {},
   "outputs": [
    {
     "data": {
      "text/html": [
       "<table>\n",
       "<thead><tr><th scope=col>season</th><th scope=col>production</th></tr></thead>\n",
       "<tbody>\n",
       "\t<tr><td>Whole year </td><td>33940973240</td></tr>\n",
       "\t<tr><td>Kharif     </td><td> 2810959845</td></tr>\n",
       "\t<tr><td>Rabi       </td><td> 1453250578</td></tr>\n",
       "\t<tr><td>Winter     </td><td>  244573272</td></tr>\n",
       "\t<tr><td>Summer     </td><td>  106970724</td></tr>\n",
       "\t<tr><td>Autumn     </td><td>   41819716</td></tr>\n",
       "</tbody>\n",
       "</table>\n"
      ],
      "text/latex": [
       "\\begin{tabular}{r|ll}\n",
       " season & production\\\\\n",
       "\\hline\n",
       "\t Whole year  & 33940973240\\\\\n",
       "\t Kharif      &  2810959845\\\\\n",
       "\t Rabi        &  1453250578\\\\\n",
       "\t Winter      &   244573272\\\\\n",
       "\t Summer      &   106970724\\\\\n",
       "\t Autumn      &    41819716\\\\\n",
       "\\end{tabular}\n"
      ],
      "text/markdown": [
       "\n",
       "| season | production |\n",
       "|---|---|\n",
       "| Whole year  | 33940973240 |\n",
       "| Kharif      |  2810959845 |\n",
       "| Rabi        |  1453250578 |\n",
       "| Winter      |   244573272 |\n",
       "| Summer      |   106970724 |\n",
       "| Autumn      |    41819716 |\n",
       "\n"
      ],
      "text/plain": [
       "  season     production \n",
       "1 Whole year 33940973240\n",
       "2 Kharif      2810959845\n",
       "3 Rabi        1453250578\n",
       "4 Winter       244573272\n",
       "5 Summer       106970724\n",
       "6 Autumn        41819716"
      ]
     },
     "metadata": {},
     "output_type": "display_data"
    }
   ],
   "source": [
    "subset(df,state = 'UTTAR PRADESH') %>% group_by(season) %>% summarise(production = sum(production)) %>% arrange(desc(production,.by_group = TRUE)) "
   ]
  },
  {
   "cell_type": "markdown",
   "id": "713ef96c",
   "metadata": {},
   "source": [
    "## Final Conclusion"
   ]
  },
  {
   "cell_type": "markdown",
   "id": "3fb38b1c",
   "metadata": {},
   "source": [
    "#### Started with 175611 samples with 8 columns.\n",
    "#### Production and Yield columns had 2559 missing values(1.4% of total data), which was dropped.\n",
    "#### Final dataset has 173050 sample and 8 columns.\n",
    "#### Top states contributing to the dataset are Uttar Pradesh, Madhya Pradesh,Rajasthan,Maharashtra & AP.\n",
    "#### Production wise top crops are Coconut,Sugarcane and Rice.\n",
    "#### Total production hit peak in 2011-12.\n",
    "#### Top producing state Uttar Pradesh has more crop production in Kharif and Rabi seasons.\n",
    "#### 90% cultivation of the least producing crop, Cardomom happens in South Indian states like Tamil Nadu,Kerala & Karnataka.\n",
    "#### Correlation between production and Yield shows rate of production is directly proportional to rate of yield."
   ]
  },
  {
   "cell_type": "code",
   "execution_count": null,
   "id": "a3fc721c",
   "metadata": {},
   "outputs": [],
   "source": []
  },
  {
   "cell_type": "code",
   "execution_count": null,
   "id": "5935d902",
   "metadata": {},
   "outputs": [],
   "source": []
  },
  {
   "cell_type": "code",
   "execution_count": null,
   "id": "aba2d84b",
   "metadata": {},
   "outputs": [],
   "source": []
  },
  {
   "cell_type": "code",
   "execution_count": null,
   "id": "9da3f6a7",
   "metadata": {},
   "outputs": [],
   "source": []
  },
  {
   "cell_type": "code",
   "execution_count": null,
   "id": "64e0cecf",
   "metadata": {},
   "outputs": [],
   "source": []
  },
  {
   "cell_type": "code",
   "execution_count": null,
   "id": "242bd593",
   "metadata": {},
   "outputs": [],
   "source": []
  },
  {
   "cell_type": "code",
   "execution_count": null,
   "id": "030c77ed",
   "metadata": {},
   "outputs": [],
   "source": []
  },
  {
   "cell_type": "code",
   "execution_count": null,
   "id": "16ce2575",
   "metadata": {},
   "outputs": [],
   "source": []
  },
  {
   "cell_type": "code",
   "execution_count": null,
   "id": "5d77012d",
   "metadata": {},
   "outputs": [],
   "source": []
  },
  {
   "cell_type": "code",
   "execution_count": null,
   "id": "d9cba84a",
   "metadata": {},
   "outputs": [],
   "source": []
  },
  {
   "cell_type": "code",
   "execution_count": null,
   "id": "4649130f",
   "metadata": {},
   "outputs": [],
   "source": []
  },
  {
   "cell_type": "code",
   "execution_count": null,
   "id": "b62fb742",
   "metadata": {},
   "outputs": [],
   "source": []
  },
  {
   "cell_type": "code",
   "execution_count": null,
   "id": "1c3ed905",
   "metadata": {},
   "outputs": [],
   "source": []
  },
  {
   "cell_type": "code",
   "execution_count": null,
   "id": "3d06c243",
   "metadata": {},
   "outputs": [],
   "source": []
  },
  {
   "cell_type": "code",
   "execution_count": null,
   "id": "72d231c1",
   "metadata": {},
   "outputs": [],
   "source": []
  },
  {
   "cell_type": "code",
   "execution_count": null,
   "id": "4424db47",
   "metadata": {},
   "outputs": [],
   "source": []
  },
  {
   "cell_type": "code",
   "execution_count": null,
   "id": "d88f8253",
   "metadata": {},
   "outputs": [],
   "source": []
  },
  {
   "cell_type": "code",
   "execution_count": null,
   "id": "e3696271",
   "metadata": {},
   "outputs": [],
   "source": []
  },
  {
   "cell_type": "code",
   "execution_count": null,
   "id": "00a6e859",
   "metadata": {},
   "outputs": [],
   "source": []
  },
  {
   "cell_type": "code",
   "execution_count": null,
   "id": "61d82262",
   "metadata": {},
   "outputs": [],
   "source": []
  },
  {
   "cell_type": "code",
   "execution_count": null,
   "id": "4e841502",
   "metadata": {},
   "outputs": [],
   "source": []
  },
  {
   "cell_type": "code",
   "execution_count": 102,
   "id": "a1693080",
   "metadata": {},
   "outputs": [
    {
     "data": {
      "image/png": "[encoded data removed]",
      "text/plain": [
       "plot without title"
      ]
     },
     "metadata": {},
     "output_type": "display_data"
    }
   ],
   "source": [
    "# Create Data\n",
    "data <- data.frame(\n",
    "  group=LETTERS[1:5],\n",
    "  value=c(13,7,9,21,2)\n",
    ")\n",
    "\n",
    "# Compute the position of labels\n",
    "data <- data %>% \n",
    "  arrange(desc(group)) %>%\n",
    "  mutate(prop = value / sum(data$value) *100) %>%\n",
    "  mutate(ypos = cumsum(prop)- 0.5*prop )\n",
    "\n",
    "# Basic piechart\n",
    "ggplot(data, aes(x=\"\", y=prop, fill=group)) +\n",
    "  geom_bar(stat=\"identity\", width=1, color=\"white\") +\n",
    "  coord_polar(\"y\", start=0) +\n",
    "  theme_void() + \n",
    "  theme(legend.position=\"none\") +\n",
    "  \n",
    "  geom_text(aes(y = ypos, label = group), color = \"white\", size=6) +\n",
    "  scale_fill_brewer(palette=\"Set1\")\n"
   ]
  },
  {
   "cell_type": "code",
   "execution_count": null,
   "id": "9806c5c8",
   "metadata": {},
   "outputs": [],
   "source": []
  },
  {
   "cell_type": "code",
   "execution_count": null,
   "id": "4d82f0ac",
   "metadata": {},
   "outputs": [],
   "source": []
  },
  {
   "cell_type": "code",
   "execution_count": null,
   "id": "25a57717",
   "metadata": {},
   "outputs": [],
   "source": []
  },
  {
   "cell_type": "code",
   "execution_count": null,
   "id": "8dd5721a",
   "metadata": {},
   "outputs": [],
   "source": []
  },
  {
   "cell_type": "code",
   "execution_count": null,
   "id": "d6012d99",
   "metadata": {},
   "outputs": [],
   "source": []
  },
  {
   "cell_type": "code",
   "execution_count": null,
   "id": "61427947",
   "metadata": {},
   "outputs": [],
   "source": []
  },
  {
   "cell_type": "code",
   "execution_count": null,
   "id": "2f74f15d",
   "metadata": {},
   "outputs": [],
   "source": []
  },
  {
   "cell_type": "code",
   "execution_count": null,
   "id": "6de73c32",
   "metadata": {},
   "outputs": [],
   "source": []
  },
  {
   "cell_type": "code",
   "execution_count": null,
   "id": "53050e2b",
   "metadata": {},
   "outputs": [],
   "source": []
  },
  {
   "cell_type": "code",
   "execution_count": null,
   "id": "eaf364c8",
   "metadata": {},
   "outputs": [],
   "source": []
  },
  {
   "cell_type": "code",
   "execution_count": null,
   "id": "d9401ef8",
   "metadata": {},
   "outputs": [],
   "source": [
    "ggplot(df, aes(x=\"\", y=value, fill=group))+\n",
    "geom_bar(width = 1, stat = \"identity\")"
   ]
  },
  {
   "cell_type": "code",
   "execution_count": null,
   "id": "362ea86f",
   "metadata": {},
   "outputs": [],
   "source": []
  },
  {
   "cell_type": "code",
   "execution_count": null,
   "id": "5166aa40",
   "metadata": {},
   "outputs": [],
   "source": []
  },
  {
   "cell_type": "code",
   "execution_count": null,
   "id": "08562f0a",
   "metadata": {},
   "outputs": [],
   "source": []
  },
  {
   "cell_type": "code",
   "execution_count": null,
   "id": "c32b180e",
   "metadata": {},
   "outputs": [],
   "source": []
  },
  {
   "cell_type": "code",
   "execution_count": null,
   "id": "06334aed",
   "metadata": {},
   "outputs": [],
   "source": []
  },
  {
   "cell_type": "code",
   "execution_count": null,
   "id": "b54c33bd",
   "metadata": {},
   "outputs": [],
   "source": []
  },
  {
   "cell_type": "code",
   "execution_count": null,
   "id": "40e97f87",
   "metadata": {},
   "outputs": [],
   "source": []
  },
  {
   "cell_type": "code",
   "execution_count": null,
   "id": "f6907242",
   "metadata": {},
   "outputs": [],
   "source": []
  },
  {
   "cell_type": "code",
   "execution_count": null,
   "id": "4656853a",
   "metadata": {},
   "outputs": [],
   "source": []
  },
  {
   "cell_type": "code",
   "execution_count": null,
   "id": "3cfaed05",
   "metadata": {},
   "outputs": [],
   "source": []
  },
  {
   "cell_type": "code",
   "execution_count": null,
   "id": "5888ac0e",
   "metadata": {},
   "outputs": [],
   "source": []
  },
  {
   "cell_type": "code",
   "execution_count": null,
   "id": "a038e42b",
   "metadata": {},
   "outputs": [],
   "source": []
  },
  {
   "cell_type": "code",
   "execution_count": null,
   "id": "13abeb1d",
   "metadata": {},
   "outputs": [],
   "source": []
  },
  {
   "cell_type": "code",
   "execution_count": null,
   "id": "9b1073bc",
   "metadata": {},
   "outputs": [],
   "source": []
  },
  {
   "cell_type": "code",
   "execution_count": null,
   "id": "4b239f51",
   "metadata": {},
   "outputs": [],
   "source": []
  },
  {
   "cell_type": "code",
   "execution_count": null,
   "id": "29d30c51",
   "metadata": {},
   "outputs": [],
   "source": []
  },
  {
   "cell_type": "code",
   "execution_count": null,
   "id": "c7d09e22",
   "metadata": {},
   "outputs": [],
   "source": []
  },
  {
   "cell_type": "code",
   "execution_count": null,
   "id": "455b87d0",
   "metadata": {},
   "outputs": [],
   "source": []
  },
  {
   "cell_type": "code",
   "execution_count": null,
   "id": "b0386adc",
   "metadata": {},
   "outputs": [],
   "source": []
  },
  {
   "cell_type": "code",
   "execution_count": null,
   "id": "8b94c537",
   "metadata": {},
   "outputs": [],
   "source": []
  },
  {
   "cell_type": "code",
   "execution_count": null,
   "id": "63e2347a",
   "metadata": {},
   "outputs": [],
   "source": []
  },
  {
   "cell_type": "code",
   "execution_count": null,
   "id": "e7ea6b67",
   "metadata": {},
   "outputs": [],
   "source": []
  },
  {
   "cell_type": "code",
   "execution_count": null,
   "id": "cc65e28d",
   "metadata": {},
   "outputs": [],
   "source": []
  },
  {
   "cell_type": "code",
   "execution_count": null,
   "id": "fbc8b8cd",
   "metadata": {},
   "outputs": [],
   "source": []
  },
  {
   "cell_type": "code",
   "execution_count": null,
   "id": "c1113e63",
   "metadata": {},
   "outputs": [],
   "source": []
  },
  {
   "cell_type": "code",
   "execution_count": null,
   "id": "9d2a9c73",
   "metadata": {},
   "outputs": [],
   "source": []
  },
  {
   "cell_type": "code",
   "execution_count": null,
   "id": "71380c46",
   "metadata": {},
   "outputs": [],
   "source": []
  },
  {
   "cell_type": "code",
   "execution_count": null,
   "id": "6be83ddb",
   "metadata": {},
   "outputs": [],
   "source": []
  },
  {
   "cell_type": "code",
   "execution_count": null,
   "id": "62639b88",
   "metadata": {},
   "outputs": [],
   "source": []
  },
  {
   "cell_type": "code",
   "execution_count": null,
   "id": "87462c83",
   "metadata": {},
   "outputs": [],
   "source": []
  },
  {
   "cell_type": "code",
   "execution_count": null,
   "id": "ab7c52cd",
   "metadata": {},
   "outputs": [],
   "source": []
  },
  {
   "cell_type": "code",
   "execution_count": null,
   "id": "67024931",
   "metadata": {},
   "outputs": [],
   "source": []
  },
  {
   "cell_type": "code",
   "execution_count": null,
   "id": "634c65dc",
   "metadata": {},
   "outputs": [],
   "source": []
  },
  {
   "cell_type": "code",
   "execution_count": null,
   "id": "1054666f",
   "metadata": {},
   "outputs": [],
   "source": []
  },
  {
   "cell_type": "code",
   "execution_count": null,
   "id": "935c0130",
   "metadata": {},
   "outputs": [],
   "source": []
  },
  {
   "cell_type": "code",
   "execution_count": null,
   "id": "d10ff261",
   "metadata": {},
   "outputs": [],
   "source": []
  },
  {
   "cell_type": "code",
   "execution_count": null,
   "id": "d9b25f94",
   "metadata": {},
   "outputs": [],
   "source": []
  },
  {
   "cell_type": "code",
   "execution_count": null,
   "id": "96c36c80",
   "metadata": {},
   "outputs": [],
   "source": []
  },
  {
   "cell_type": "code",
   "execution_count": null,
   "id": "4df50343",
   "metadata": {},
   "outputs": [],
   "source": []
  },
  {
   "cell_type": "code",
   "execution_count": null,
   "id": "12a4cce1",
   "metadata": {},
   "outputs": [],
   "source": []
  },
  {
   "cell_type": "code",
   "execution_count": null,
   "id": "4dd6f2db",
   "metadata": {},
   "outputs": [],
   "source": []
  },
  {
   "cell_type": "code",
   "execution_count": null,
   "id": "a518247f",
   "metadata": {},
   "outputs": [],
   "source": []
  },
  {
   "cell_type": "code",
   "execution_count": null,
   "id": "011d38ae",
   "metadata": {},
   "outputs": [],
   "source": []
  },
  {
   "cell_type": "code",
   "execution_count": null,
   "id": "12e06118",
   "metadata": {},
   "outputs": [],
   "source": []
  },
  {
   "cell_type": "code",
   "execution_count": null,
   "id": "5ce2c847",
   "metadata": {},
   "outputs": [],
   "source": []
  },
  {
   "cell_type": "code",
   "execution_count": null,
   "id": "ca1240e3",
   "metadata": {},
   "outputs": [],
   "source": []
  },
  {
   "cell_type": "code",
   "execution_count": null,
   "id": "126216dd",
   "metadata": {},
   "outputs": [],
   "source": []
  },
  {
   "cell_type": "code",
   "execution_count": null,
   "id": "7d37203f",
   "metadata": {},
   "outputs": [],
   "source": []
  },
  {
   "cell_type": "code",
   "execution_count": null,
   "id": "150d7316",
   "metadata": {},
   "outputs": [],
   "source": []
  },
  {
   "cell_type": "code",
   "execution_count": null,
   "id": "a22e22cb",
   "metadata": {},
   "outputs": [],
   "source": []
  },
  {
   "cell_type": "code",
   "execution_count": null,
   "id": "968355f3",
   "metadata": {},
   "outputs": [],
   "source": []
  },
  {
   "cell_type": "code",
   "execution_count": 211,
   "id": "73a8fdc1",
   "metadata": {},
   "outputs": [
    {
     "data": {
      "text/plain": [
       "\n",
       "             Arecanut           Arhar (Tur)                 Bajra \n",
       "                 1108                  5460                  4269 \n",
       "               Banana                Barley          Black pepper \n",
       "                 2295                  3128                   591 \n",
       "             Cardamom             Cashewnut           Castor seed \n",
       "                  264                   619                  2625 \n",
       "              Coconut             Coriander          Cotton(lint) \n",
       "                 1471                  2533                  3274 \n",
       "         Dry chillies            Dry ginger                Garlic \n",
       "                 4811                  2410                  2446 \n",
       "                 Gram             Groundnut             Guar seed \n",
       "                 5539                  6535                   798 \n",
       "            HorseGram                 Jowar                  Jute \n",
       "                 2689                  5401                   964 \n",
       "               Kesari               Linseed                 Maize \n",
       "                  871                  3286                  9851 \n",
       "               Masoor                 Mesta                 Moong \n",
       "                 2930                  1258                  7154 \n",
       "                 Moth            Niger seed                 Onion \n",
       "                  749                  1559                  5223 \n",
       "  Other Kharif Pulses     Other Rabi Pulses Peas & Beans (Pulses) \n",
       "                 2823                  2482                  3058 \n",
       "               Potato                  Ragi     Rapeseed &Mustard \n",
       "                 5381                  3078                  5769 \n",
       "                 Rice             Safflower              Sannhamp \n",
       "                11018                  1019                  1752 \n",
       "              Sesamum         Small millets              Soyabean \n",
       "                 6641                  3363                  2504 \n",
       "            Sugarcane             Sunflower          Sweet potato \n",
       "                 5878                  4158                  3072 \n",
       "              Tapioca               Tobacco              Turmeric \n",
       "                 1094                  1955                  3223 \n",
       "                 Urad                 Wheat \n",
       "                 6683                  6005 "
      ]
     },
     "metadata": {},
     "output_type": "display_data"
    }
   ],
   "source": [
    "table(df$crop)"
   ]
  },
  {
   "cell_type": "code",
   "execution_count": null,
   "id": "51c3072e",
   "metadata": {},
   "outputs": [],
   "source": []
  },
  {
   "cell_type": "code",
   "execution_count": null,
   "id": "5a6a70b2",
   "metadata": {},
   "outputs": [],
   "source": []
  },
  {
   "cell_type": "code",
   "execution_count": null,
   "id": "965f95fe",
   "metadata": {},
   "outputs": [],
   "source": []
  },
  {
   "cell_type": "code",
   "execution_count": 203,
   "id": "569a0ae7",
   "metadata": {},
   "outputs": [],
   "source": [
    "a = 10"
   ]
  },
  {
   "cell_type": "code",
   "execution_count": 208,
   "id": "28130c10",
   "metadata": {},
   "outputs": [
    {
     "name": "stdout",
     "output_type": "stream",
     "text": [
      "Hiii 10 hello"
     ]
    }
   ],
   "source": [
    "cat(\"Hiii\", a , \"hello\")"
   ]
  },
  {
   "cell_type": "code",
   "execution_count": null,
   "id": "753005fc",
   "metadata": {},
   "outputs": [],
   "source": []
  },
  {
   "cell_type": "code",
   "execution_count": null,
   "id": "f0bbd651",
   "metadata": {},
   "outputs": [],
   "source": []
  },
  {
   "cell_type": "code",
   "execution_count": null,
   "id": "22ef3adb",
   "metadata": {},
   "outputs": [],
   "source": []
  },
  {
   "cell_type": "code",
   "execution_count": null,
   "id": "b3e67409",
   "metadata": {},
   "outputs": [],
   "source": []
  },
  {
   "cell_type": "code",
   "execution_count": null,
   "id": "bbf22366",
   "metadata": {},
   "outputs": [],
   "source": []
  },
  {
   "cell_type": "code",
   "execution_count": null,
   "id": "f7ade956",
   "metadata": {},
   "outputs": [],
   "source": []
  },
  {
   "cell_type": "code",
   "execution_count": null,
   "id": "361e9e7b",
   "metadata": {},
   "outputs": [],
   "source": []
  },
  {
   "cell_type": "code",
   "execution_count": null,
   "id": "ebc1f889",
   "metadata": {},
   "outputs": [],
   "source": []
  },
  {
   "cell_type": "code",
   "execution_count": null,
   "id": "f9e32f22",
   "metadata": {},
   "outputs": [],
   "source": []
  },
  {
   "cell_type": "code",
   "execution_count": null,
   "id": "3500b9fd",
   "metadata": {},
   "outputs": [],
   "source": []
  },
  {
   "cell_type": "code",
   "execution_count": null,
   "id": "a318c427",
   "metadata": {},
   "outputs": [],
   "source": []
  },
  {
   "cell_type": "code",
   "execution_count": null,
   "id": "192e3af2",
   "metadata": {},
   "outputs": [],
   "source": []
  },
  {
   "cell_type": "code",
   "execution_count": null,
   "id": "6590ca8f",
   "metadata": {},
   "outputs": [],
   "source": []
  },
  {
   "cell_type": "code",
   "execution_count": null,
   "id": "cbec27aa",
   "metadata": {},
   "outputs": [],
   "source": []
  },
  {
   "cell_type": "code",
   "execution_count": null,
   "id": "f07fced5",
   "metadata": {},
   "outputs": [],
   "source": []
  },
  {
   "cell_type": "code",
   "execution_count": null,
   "id": "5d475196",
   "metadata": {},
   "outputs": [],
   "source": []
  },
  {
   "cell_type": "code",
   "execution_count": null,
   "id": "fb2b26b5",
   "metadata": {},
   "outputs": [],
   "source": []
  },
  {
   "cell_type": "code",
   "execution_count": null,
   "id": "f3eaf52c",
   "metadata": {},
   "outputs": [],
   "source": []
  },
  {
   "cell_type": "code",
   "execution_count": null,
   "id": "9e690ced",
   "metadata": {},
   "outputs": [],
   "source": []
  },
  {
   "cell_type": "code",
   "execution_count": null,
   "id": "8fe01541",
   "metadata": {},
   "outputs": [],
   "source": []
  },
  {
   "cell_type": "code",
   "execution_count": null,
   "id": "f5ccb90b",
   "metadata": {},
   "outputs": [],
   "source": []
  },
  {
   "cell_type": "code",
   "execution_count": null,
   "id": "43729b3d",
   "metadata": {},
   "outputs": [],
   "source": []
  },
  {
   "cell_type": "code",
   "execution_count": null,
   "id": "e148d6b3",
   "metadata": {},
   "outputs": [],
   "source": []
  },
  {
   "cell_type": "code",
   "execution_count": null,
   "id": "ef4dbd90",
   "metadata": {},
   "outputs": [],
   "source": []
  },
  {
   "cell_type": "code",
   "execution_count": null,
   "id": "9172bcb6",
   "metadata": {},
   "outputs": [],
   "source": []
  },
  {
   "cell_type": "code",
   "execution_count": null,
   "id": "5c9d79ea",
   "metadata": {},
   "outputs": [],
   "source": []
  },
  {
   "cell_type": "code",
   "execution_count": null,
   "id": "03861b46",
   "metadata": {},
   "outputs": [],
   "source": []
  },
  {
   "cell_type": "code",
   "execution_count": null,
   "id": "d280b796",
   "metadata": {},
   "outputs": [],
   "source": []
  },
  {
   "cell_type": "code",
   "execution_count": null,
   "id": "7f392c15",
   "metadata": {},
   "outputs": [],
   "source": []
  },
  {
   "cell_type": "code",
   "execution_count": null,
   "id": "0da39de2",
   "metadata": {},
   "outputs": [],
   "source": []
  },
  {
   "cell_type": "code",
   "execution_count": null,
   "id": "21401e88",
   "metadata": {},
   "outputs": [],
   "source": []
  },
  {
   "cell_type": "code",
   "execution_count": null,
   "id": "a6febb18",
   "metadata": {},
   "outputs": [],
   "source": []
  },
  {
   "cell_type": "code",
   "execution_count": null,
   "id": "48589c88",
   "metadata": {},
   "outputs": [],
   "source": []
  },
  {
   "cell_type": "code",
   "execution_count": null,
   "id": "a82b0928",
   "metadata": {},
   "outputs": [],
   "source": []
  },
  {
   "cell_type": "code",
   "execution_count": null,
   "id": "5570511a",
   "metadata": {},
   "outputs": [],
   "source": []
  },
  {
   "cell_type": "code",
   "execution_count": null,
   "id": "e638c3d8",
   "metadata": {},
   "outputs": [],
   "source": []
  },
  {
   "cell_type": "code",
   "execution_count": null,
   "id": "ab805db0",
   "metadata": {},
   "outputs": [],
   "source": []
  },
  {
   "cell_type": "code",
   "execution_count": null,
   "id": "7194cf6b",
   "metadata": {},
   "outputs": [],
   "source": []
  },
  {
   "cell_type": "code",
   "execution_count": null,
   "id": "25877d84",
   "metadata": {},
   "outputs": [],
   "source": []
  },
  {
   "cell_type": "code",
   "execution_count": null,
   "id": "dfa22702",
   "metadata": {},
   "outputs": [],
   "source": []
  },
  {
   "cell_type": "code",
   "execution_count": null,
   "id": "f142be6f",
   "metadata": {},
   "outputs": [],
   "source": []
  },
  {
   "cell_type": "code",
   "execution_count": null,
   "id": "749dec52",
   "metadata": {},
   "outputs": [],
   "source": []
  },
  {
   "cell_type": "code",
   "execution_count": null,
   "id": "1b7a69e5",
   "metadata": {},
   "outputs": [],
   "source": []
  },
  {
   "cell_type": "code",
   "execution_count": null,
   "id": "c50597a8",
   "metadata": {},
   "outputs": [],
   "source": []
  },
  {
   "cell_type": "code",
   "execution_count": null,
   "id": "23f4463f",
   "metadata": {},
   "outputs": [],
   "source": []
  },
  {
   "cell_type": "code",
   "execution_count": null,
   "id": "5423bbfe",
   "metadata": {},
   "outputs": [],
   "source": []
  },
  {
   "cell_type": "code",
   "execution_count": null,
   "id": "bc1eb2e7",
   "metadata": {},
   "outputs": [],
   "source": []
  },
  {
   "cell_type": "code",
   "execution_count": null,
   "id": "e980e369",
   "metadata": {},
   "outputs": [],
   "source": []
  },
  {
   "cell_type": "code",
   "execution_count": null,
   "id": "49a1be09",
   "metadata": {},
   "outputs": [],
   "source": []
  },
  {
   "cell_type": "code",
   "execution_count": null,
   "id": "f8f627d1",
   "metadata": {},
   "outputs": [],
   "source": []
  },
  {
   "cell_type": "code",
   "execution_count": null,
   "id": "8bc3e984",
   "metadata": {},
   "outputs": [],
   "source": []
  },
  {
   "cell_type": "code",
   "execution_count": null,
   "id": "bf5edd59",
   "metadata": {},
   "outputs": [],
   "source": []
  },
  {
   "cell_type": "code",
   "execution_count": null,
   "id": "1dce83fa",
   "metadata": {},
   "outputs": [],
   "source": []
  },
  {
   "cell_type": "code",
   "execution_count": null,
   "id": "bce62d44",
   "metadata": {},
   "outputs": [],
   "source": []
  },
  {
   "cell_type": "code",
   "execution_count": null,
   "id": "e033dd9b",
   "metadata": {},
   "outputs": [],
   "source": []
  },
  {
   "cell_type": "code",
   "execution_count": null,
   "id": "8315e745",
   "metadata": {},
   "outputs": [],
   "source": []
  },
  {
   "cell_type": "code",
   "execution_count": null,
   "id": "69f52d5a",
   "metadata": {},
   "outputs": [],
   "source": []
  },
  {
   "cell_type": "code",
   "execution_count": null,
   "id": "1dd4f760",
   "metadata": {},
   "outputs": [],
   "source": []
  },
  {
   "cell_type": "code",
   "execution_count": null,
   "id": "56abae35",
   "metadata": {},
   "outputs": [],
   "source": []
  },
  {
   "cell_type": "code",
   "execution_count": null,
   "id": "b9e4cd4c",
   "metadata": {},
   "outputs": [],
   "source": []
  },
  {
   "cell_type": "code",
   "execution_count": null,
   "id": "628c2802",
   "metadata": {},
   "outputs": [],
   "source": []
  },
  {
   "cell_type": "code",
   "execution_count": null,
   "id": "bd2c9038",
   "metadata": {},
   "outputs": [],
   "source": []
  },
  {
   "cell_type": "code",
   "execution_count": null,
   "id": "ee8fff1c",
   "metadata": {},
   "outputs": [],
   "source": []
  },
  {
   "cell_type": "code",
   "execution_count": null,
   "id": "623f2c8e",
   "metadata": {},
   "outputs": [],
   "source": []
  },
  {
   "cell_type": "code",
   "execution_count": null,
   "id": "284852cc",
   "metadata": {},
   "outputs": [],
   "source": []
  },
  {
   "cell_type": "code",
   "execution_count": null,
   "id": "61c2c481",
   "metadata": {},
   "outputs": [],
   "source": []
  },
  {
   "cell_type": "code",
   "execution_count": null,
   "id": "2a966eca",
   "metadata": {},
   "outputs": [],
   "source": []
  },
  {
   "cell_type": "code",
   "execution_count": null,
   "id": "ce5da307",
   "metadata": {},
   "outputs": [],
   "source": []
  },
  {
   "cell_type": "code",
   "execution_count": null,
   "id": "13716c47",
   "metadata": {},
   "outputs": [],
   "source": []
  },
  {
   "cell_type": "code",
   "execution_count": null,
   "id": "8048d15d",
   "metadata": {},
   "outputs": [],
   "source": []
  },
  {
   "cell_type": "code",
   "execution_count": null,
   "id": "f0ceee01",
   "metadata": {},
   "outputs": [],
   "source": [
    "2."
   ]
  },
  {
   "cell_type": "code",
   "execution_count": null,
   "id": "50ef9c52",
   "metadata": {},
   "outputs": [],
   "source": []
  },
  {
   "cell_type": "code",
   "execution_count": null,
   "id": "febf7bab",
   "metadata": {},
   "outputs": [],
   "source": []
  },
  {
   "cell_type": "code",
   "execution_count": null,
   "id": "77f539d5",
   "metadata": {},
   "outputs": [],
   "source": []
  },
  {
   "cell_type": "code",
   "execution_count": null,
   "id": "e8ce76d1",
   "metadata": {},
   "outputs": [],
   "source": []
  },
  {
   "cell_type": "code",
   "execution_count": null,
   "id": "399c81cc",
   "metadata": {},
   "outputs": [],
   "source": []
  },
  {
   "cell_type": "code",
   "execution_count": null,
   "id": "eab757c4",
   "metadata": {},
   "outputs": [],
   "source": []
  },
  {
   "cell_type": "code",
   "execution_count": null,
   "id": "1c3b7c6f",
   "metadata": {},
   "outputs": [],
   "source": []
  },
  {
   "cell_type": "code",
   "execution_count": null,
   "id": "d401bf01",
   "metadata": {},
   "outputs": [],
   "source": []
  },
  {
   "cell_type": "code",
   "execution_count": null,
   "id": "55a5f0c9",
   "metadata": {},
   "outputs": [],
   "source": []
  },
  {
   "cell_type": "code",
   "execution_count": null,
   "id": "cd197eee",
   "metadata": {},
   "outputs": [],
   "source": []
  },
  {
   "cell_type": "code",
   "execution_count": null,
   "id": "f82a5770",
   "metadata": {},
   "outputs": [],
   "source": []
  },
  {
   "cell_type": "code",
   "execution_count": null,
   "id": "e53568d6",
   "metadata": {},
   "outputs": [],
   "source": []
  },
  {
   "cell_type": "code",
   "execution_count": null,
   "id": "8d97bcfc",
   "metadata": {},
   "outputs": [],
   "source": []
  },
  {
   "cell_type": "code",
   "execution_count": null,
   "id": "a5a11285",
   "metadata": {},
   "outputs": [],
   "source": []
  },
  {
   "cell_type": "code",
   "execution_count": null,
   "id": "67f605d1",
   "metadata": {},
   "outputs": [],
   "source": []
  },
  {
   "cell_type": "code",
   "execution_count": null,
   "id": "1d6022a6",
   "metadata": {},
   "outputs": [],
   "source": []
  },
  {
   "cell_type": "code",
   "execution_count": null,
   "id": "87f01624",
   "metadata": {},
   "outputs": [],
   "source": []
  },
  {
   "cell_type": "code",
   "execution_count": null,
   "id": "f7303880",
   "metadata": {},
   "outputs": [],
   "source": []
  },
  {
   "cell_type": "code",
   "execution_count": null,
   "id": "4445d9f1",
   "metadata": {},
   "outputs": [],
   "source": []
  },
  {
   "cell_type": "code",
   "execution_count": null,
   "id": "1647d1c2",
   "metadata": {},
   "outputs": [],
   "source": []
  },
  {
   "cell_type": "code",
   "execution_count": null,
   "id": "15d22c8b",
   "metadata": {},
   "outputs": [],
   "source": []
  },
  {
   "cell_type": "code",
   "execution_count": null,
   "id": "b9d14f49",
   "metadata": {},
   "outputs": [],
   "source": []
  },
  {
   "cell_type": "code",
   "execution_count": null,
   "id": "5d161e1a",
   "metadata": {},
   "outputs": [],
   "source": []
  },
  {
   "cell_type": "code",
   "execution_count": null,
   "id": "fe03061f",
   "metadata": {},
   "outputs": [],
   "source": []
  },
  {
   "cell_type": "code",
   "execution_count": null,
   "id": "e85c15ae",
   "metadata": {},
   "outputs": [],
   "source": []
  },
  {
   "cell_type": "code",
   "execution_count": null,
   "id": "a9fe4e83",
   "metadata": {},
   "outputs": [],
   "source": []
  },
  {
   "cell_type": "code",
   "execution_count": null,
   "id": "c3c2d911",
   "metadata": {},
   "outputs": [],
   "source": []
  },
  {
   "cell_type": "code",
   "execution_count": null,
   "id": "18c9a833",
   "metadata": {},
   "outputs": [],
   "source": []
  },
  {
   "cell_type": "code",
   "execution_count": null,
   "id": "3443b424",
   "metadata": {},
   "outputs": [],
   "source": []
  },
  {
   "cell_type": "code",
   "execution_count": null,
   "id": "b20b96c9",
   "metadata": {},
   "outputs": [],
   "source": []
  },
  {
   "cell_type": "code",
   "execution_count": null,
   "id": "c21f9981",
   "metadata": {},
   "outputs": [],
   "source": []
  },
  {
   "cell_type": "code",
   "execution_count": null,
   "id": "aa73646e",
   "metadata": {},
   "outputs": [],
   "source": []
  },
  {
   "cell_type": "code",
   "execution_count": null,
   "id": "52334bb8",
   "metadata": {},
   "outputs": [],
   "source": []
  },
  {
   "cell_type": "code",
   "execution_count": null,
   "id": "6176aea2",
   "metadata": {},
   "outputs": [],
   "source": []
  },
  {
   "cell_type": "code",
   "execution_count": null,
   "id": "f81a7b2f",
   "metadata": {},
   "outputs": [],
   "source": []
  },
  {
   "cell_type": "code",
   "execution_count": null,
   "id": "3ee10b02",
   "metadata": {},
   "outputs": [],
   "source": []
  },
  {
   "cell_type": "code",
   "execution_count": null,
   "id": "cfe78294",
   "metadata": {},
   "outputs": [],
   "source": []
  },
  {
   "cell_type": "code",
   "execution_count": null,
   "id": "923d809f",
   "metadata": {},
   "outputs": [],
   "source": []
  },
  {
   "cell_type": "code",
   "execution_count": null,
   "id": "09049ef3",
   "metadata": {},
   "outputs": [],
   "source": []
  },
  {
   "cell_type": "code",
   "execution_count": 30,
   "id": "65364572",
   "metadata": {},
   "outputs": [],
   "source": [
    "y <- c(1, seq(5))"
   ]
  },
  {
   "cell_type": "code",
   "execution_count": 31,
   "id": "a832047f",
   "metadata": {},
   "outputs": [
    {
     "data": {
      "text/html": [
       "<ol class=list-inline>\n",
       "\t<li>1</li>\n",
       "\t<li>1</li>\n",
       "\t<li>2</li>\n",
       "\t<li>3</li>\n",
       "\t<li>4</li>\n",
       "\t<li>5</li>\n",
       "</ol>\n"
      ],
      "text/latex": [
       "\\begin{enumerate*}\n",
       "\\item 1\n",
       "\\item 1\n",
       "\\item 2\n",
       "\\item 3\n",
       "\\item 4\n",
       "\\item 5\n",
       "\\end{enumerate*}\n"
      ],
      "text/markdown": [
       "1. 1\n",
       "2. 1\n",
       "3. 2\n",
       "4. 3\n",
       "5. 4\n",
       "6. 5\n",
       "\n",
       "\n"
      ],
      "text/plain": [
       "[1] 1 1 2 3 4 5"
      ]
     },
     "metadata": {},
     "output_type": "display_data"
    }
   ],
   "source": [
    "y"
   ]
  },
  {
   "cell_type": "code",
   "execution_count": null,
   "id": "c5ff1705",
   "metadata": {},
   "outputs": [],
   "source": []
  },
  {
   "cell_type": "code",
   "execution_count": null,
   "id": "37840ea7",
   "metadata": {},
   "outputs": [],
   "source": []
  },
  {
   "cell_type": "code",
   "execution_count": null,
   "id": "1cb8fec8",
   "metadata": {},
   "outputs": [],
   "source": []
  },
  {
   "cell_type": "code",
   "execution_count": null,
   "id": "858c1d3a",
   "metadata": {},
   "outputs": [],
   "source": []
  },
  {
   "cell_type": "code",
   "execution_count": null,
   "id": "fd401fe1",
   "metadata": {},
   "outputs": [],
   "source": []
  },
  {
   "cell_type": "code",
   "execution_count": null,
   "id": "87c437d8",
   "metadata": {},
   "outputs": [],
   "source": []
  },
  {
   "cell_type": "code",
   "execution_count": null,
   "id": "38fe9446",
   "metadata": {},
   "outputs": [],
   "source": []
  },
  {
   "cell_type": "code",
   "execution_count": null,
   "id": "81e906e2",
   "metadata": {},
   "outputs": [],
   "source": []
  },
  {
   "cell_type": "code",
   "execution_count": null,
   "id": "0dd369f1",
   "metadata": {},
   "outputs": [],
   "source": []
  }
 ],
 "metadata": {
  "kernelspec": {
   "display_name": "R",
   "language": "R",
   "name": "ir"
  },
  "language_info": {
   "codemirror_mode": "r",
   "file_extension": ".r",
   "mimetype": "text/x-r-source",
   "name": "R",
   "pygments_lexer": "r",
   "version": "3.6.1"
  }
 },
 "nbformat": 4,
 "nbformat_minor": 5
}
